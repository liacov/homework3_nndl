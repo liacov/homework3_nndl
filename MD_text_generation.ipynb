{
 "cells": [
  {
   "cell_type": "code",
   "execution_count": 1,
   "metadata": {
    "colab": {},
    "colab_type": "code",
    "id": "VR-aozjuNBkn"
   },
   "outputs": [],
   "source": [
    "import json\n",
    "import pickle\n",
    "import numpy as np\n",
    "import matplotlib.pyplot as plt\n",
    "\n",
    "from torch import optim, nn\n",
    "from modules.dataset import *\n",
    "from modules.network import *\n",
    "from modules.embeddings import *\n",
    "from modules.generate_text import *\n",
    "from torch import save, device, cuda\n",
    "from torch.utils.data import DataLoader"
   ]
  },
  {
   "cell_type": "code",
   "execution_count": 2,
   "metadata": {
    "colab": {
     "base_uri": "https://localhost:8080/",
     "height": 35
    },
    "colab_type": "code",
    "id": "Y86jEOjaNBku",
    "outputId": "52f708ff-1c3a-406b-bdab-1cd5b31788d4"
   },
   "outputs": [
    {
     "name": "stdout",
     "output_type": "stream",
     "text": [
      "Selected device: cpu\n"
     ]
    }
   ],
   "source": [
    "device = device(\"cuda\") if cuda.is_available() else device(\"cpu\")\n",
    "print('Selected device:', device)"
   ]
  },
  {
   "cell_type": "raw",
   "metadata": {},
   "source": [
    "# Colab packages\n",
    "from google.colab import files, drive\n",
    "\n",
    "# Connect drive to colab\n",
    "drive.mount('/content/drive')\n",
    "\n",
    "# Create directories (Colab)\n",
    "!mkdir ./drive/My\\ Drive/Colab\\ Notebooks/images\n",
    "!mkdir ./drive/My\\ Drive/Colab\\ Notebooks/results\n",
    "!mkdir ./drive/My\\ Drive/Colab\\ Notebooks/results/losses\n",
    "\n",
    "# Set paths\n",
    "images_path = \"./drive/My Drive/Colab Notebooks/images\"\n",
    "res_path = \"./drive/My Drive/Colab Notebooks/results/losses\""
   ]
  },
  {
   "cell_type": "code",
   "execution_count": 3,
   "metadata": {},
   "outputs": [],
   "source": [
    "# Set local paths\n",
    "images_path = \"./images\"\n",
    "res_path = \"./data/losses\""
   ]
  },
  {
   "cell_type": "markdown",
   "metadata": {},
   "source": [
    "# Dataset"
   ]
  },
  {
   "cell_type": "markdown",
   "metadata": {},
   "source": [
    "## Loading and preprocessing"
   ]
  },
  {
   "cell_type": "code",
   "execution_count": 4,
   "metadata": {
    "colab": {},
    "colab_type": "code",
    "id": "NBpduFYANBkz"
   },
   "outputs": [
    {
     "data": {
      "text/plain": [
       "434"
      ]
     },
     "execution_count": 4,
     "metadata": {},
     "output_type": "execute_result"
    }
   ],
   "source": [
    "#%%Loading the dataset \n",
    "\n",
    "min_len = 12\n",
    "dataset = Mobydick('./data/mobydick.txt', min_len = min_len)\n",
    "\n",
    "with open('./data/clean_text', 'wb') as f:\n",
    "    pickle.dump(dataset, f, pickle.HIGHEST_PROTOCOL)\n",
    "    \n",
    "len(dataset)"
   ]
  },
  {
   "cell_type": "code",
   "execution_count": 5,
   "metadata": {},
   "outputs": [
    {
     "name": "stdout",
     "output_type": "stream",
     "text": [
      "['some', 'years', 'ago', 'never', 'mind', 'how', 'long', 'precisely', 'having', 'little', 'or', 'no', 'money', 'in', 'my', 'purse', ',', 'and', 'nothing', 'particular', 'to', 'interest', 'me', 'on', 'shore', ',', 'i', 'thought', 'i', 'would', 'sail', 'about', 'a', 'little', 'and', 'see', 'the', 'watery', 'part', 'of', 'the', 'world', '.']\n"
     ]
    }
   ],
   "source": [
    "# Given a min_len>2, it is not necessary to delete the chapters titles\n",
    "print(dataset[0])"
   ]
  },
  {
   "cell_type": "code",
   "execution_count": 6,
   "metadata": {
    "scrolled": false
   },
   "outputs": [
    {
     "name": "stdout",
     "output_type": "stream",
     "text": [
      "Mean sentence length: 31.921658986175114\n",
      "Max sentence length: 127\n",
      "Min sentence length: 12\n"
     ]
    },
    {
     "data": {
      "image/png": "[encoded data removed]",
      "text/plain": [
       "<Figure size 1008x432 with 2 Axes>"
      ]
     },
     "metadata": {
      "needs_background": "light"
     },
     "output_type": "display_data"
    }
   ],
   "source": [
    "# Dataset visualization\n",
    "lengths = [ len(sentence)  for sentence in dataset ]\n",
    "fig, axs = plt.subplots(1, 2, figsize=(14,6))\n",
    "axs.ravel()\n",
    "axs[0].set_title('Sentence length values')\n",
    "axs[0].set_xlabel('sentence index')\n",
    "axs[0].set_ylabel('sentence length')\n",
    "_ = axs[0].plot(lengths, '.')\n",
    "axs[1].set_title('Sentence length distribution')\n",
    "axs[1].set_xlabel('sentence length')\n",
    "axs[1].set_ylabel('length probability')\n",
    "_ = axs[1].hist(lengths, bins=40, density=True)\n",
    "\n",
    "print('Mean sentence length:', np.mean(lengths))\n",
    "print('Max sentence length:', np.max(lengths))\n",
    "print('Min sentence length:', np.min(lengths))\n",
    "\n",
    "plt.tight_layout()\n",
    "plt.savefig(images_path+f'/md_{min_len}.png')\n",
    "plt.show()"
   ]
  },
  {
   "cell_type": "code",
   "execution_count": 7,
   "metadata": {},
   "outputs": [
    {
     "name": "stdout",
     "output_type": "stream",
     "text": [
      "2944\n"
     ]
    }
   ],
   "source": [
    "print(len(dataset.words))"
   ]
  },
  {
   "cell_type": "markdown",
   "metadata": {},
   "source": [
    "## Word embeddings"
   ]
  },
  {
   "cell_type": "code",
   "execution_count": 8,
   "metadata": {},
   "outputs": [],
   "source": [
    "# Define the embedding dimension\n",
    "embedding_dim = 50\n",
    "\n",
    "# Copy dataset words\n",
    "words = set(dataset.words.copy())"
   ]
  },
  {
   "cell_type": "raw",
   "metadata": {},
   "source": [
    "%%time \n",
    "\n",
    "# Load embeddings from glove\n",
    "glove = from_file(path='data/glove.6B.50d.txt',\n",
    "                  words=words\n",
    "                 )"
   ]
  },
  {
   "cell_type": "raw",
   "metadata": {},
   "source": [
    "# Analyse glove embeddings\n",
    "print('Mean:', np.mean(list(glove.values())), ', STD: ', np.std(list(glove.values())) )"
   ]
  },
  {
   "cell_type": "raw",
   "metadata": {},
   "source": [
    "# Define embeddings for unknown words by sampling from normal distirbution, using found parameters\n",
    "mean = np.mean(list(glove.values()))\n",
    "std = np.std(list(glove.values())) \n",
    "\n",
    "# Initialize randomly sampled embeddings\n",
    "embeddings = gaussian_sampling(mean, std, dim=embedding_dim, words=words)\n",
    "# Loop through each embedded word\n",
    "for word, vector in embeddings.items():\n",
    "    # Subsititute current entry with glove one, if available\n",
    "    embeddings[word] = glove.get(word, vector)\n",
    "\n",
    "# Get list of words\n",
    "words = [*embeddings.keys()]\n",
    "# Get vectors as float tensor\n",
    "vectors = torch.tensor([*embeddings.values()], dtype=torch.float)"
   ]
  },
  {
   "cell_type": "raw",
   "metadata": {},
   "source": [
    "vectors.shape"
   ]
  },
  {
   "cell_type": "raw",
   "metadata": {},
   "source": [
    "# Analyse generated embeddings\n",
    "print('Mean:', np.mean(list(embeddings.values())), ', STD: ', np.std(list(embeddings.values())) )"
   ]
  },
  {
   "cell_type": "raw",
   "metadata": {},
   "source": [
    "a = vectors.shape[0] # obtained with all words in vocab and in glove + words in vocab not in glove\n",
    "b = len(set(glove.keys()) & set(dataset.words)) + len(set(dataset.words) - set(glove.keys())) \n",
    "# sanity check\n",
    "a == b"
   ]
  },
  {
   "cell_type": "raw",
   "metadata": {},
   "source": [
    "with open('./data/embeddings', 'wb') as f:\n",
    "    pickle.dump(embeddings, f, pickle.HIGHEST_PROTOCOL)"
   ]
  },
  {
   "cell_type": "code",
   "execution_count": 9,
   "metadata": {},
   "outputs": [],
   "source": [
    "# Load embeddings\n",
    "with open('./data/embeddings', 'rb') as f:\n",
    "    embeddings = pickle.load(f)\n",
    "\n",
    "# Get list of words\n",
    "words = [*embeddings.keys()]\n",
    "# Get vectors as float tensor\n",
    "vectors = torch.tensor([*embeddings.values()], dtype=torch.float)"
   ]
  },
  {
   "cell_type": "code",
   "execution_count": 10,
   "metadata": {},
   "outputs": [],
   "source": [
    "crop_len = 10\n",
    "\n",
    "# Define transformation \n",
    "dataset.transform = transforms.Compose([\n",
    "    RandomCrop(crop_len),\n",
    "    WordToIndex(words),\n",
    "    ToTensor()\n",
    "])"
   ]
  },
  {
   "cell_type": "code",
   "execution_count": 11,
   "metadata": {},
   "outputs": [
    {
     "data": {
      "text/plain": [
       "torch.Size([10])"
      ]
     },
     "execution_count": 11,
     "metadata": {},
     "output_type": "execute_result"
    }
   ],
   "source": [
    "# Defined the transform, this call returns the word index (after random cropping)\n",
    "dataset[0].shape"
   ]
  },
  {
   "cell_type": "markdown",
   "metadata": {},
   "source": [
    "# RNN"
   ]
  },
  {
   "cell_type": "code",
   "execution_count": 12,
   "metadata": {
    "colab": {},
    "colab_type": "code",
    "id": "4ZNAdwzKNBkr"
   },
   "outputs": [],
   "source": [
    "classification = True\n",
    "\n",
    "params = {\n",
    "        # network\n",
    "        'hidden_units' : 2**9, # symmetric layers\n",
    "        'layers_num' : 2,\n",
    "        'dropout_prob' : 0.3,\n",
    "        'architecture' : 'GRU',\n",
    "\n",
    "        # training\n",
    "        'batch_size' : 10,\n",
    "        'num_epochs' : 100,\n",
    "\n",
    "        # optimizer\n",
    "        'lr' : 1e-3,\n",
    "        'wd' : 5e-5,\n",
    "    \n",
    "        # dataset\n",
    "        'crop_len' : crop_len,\n",
    "        'min_len' : min_len\n",
    "        }\n",
    "\n",
    "# save\n",
    "out_dir = '{}_{}_{}_{}_{}_{}'.format(params['architecture'], \n",
    "                                     params['crop_len'], \n",
    "                                     params['min_len'], \n",
    "                                     params['batch_size'], \n",
    "                                     params['lr'], \n",
    "                                     params['wd'])"
   ]
  },
  {
   "cell_type": "code",
   "execution_count": 13,
   "metadata": {},
   "outputs": [],
   "source": [
    "# Split initial dataset in train dataset and test dataset\n",
    "train_dataset, test_dataset = split_train_test(dataset, 0.9)\n",
    "# Make train dataloader\n",
    "train_dataloader = DataLoader(train_dataset, batch_size=params['batch_size'], shuffle=True)\n",
    "# Make test dataloader\n",
    "test_dataloader = DataLoader(test_dataset, shuffle=False)"
   ]
  },
  {
   "cell_type": "code",
   "execution_count": 14,
   "metadata": {
    "colab": {},
    "colab_type": "code",
    "id": "oc8u0owgNBk2"
   },
   "outputs": [
    {
     "data": {
      "text/plain": [
       "Network(\n",
       "  (rnn): GRU(50, 512, num_layers=2, batch_first=True, dropout=0.3)\n",
       "  (out): Linear(in_features=512, out_features=2944, bias=True)\n",
       "  (embed): Embedding(2944, 50)\n",
       ")"
      ]
     },
     "execution_count": 14,
     "metadata": {},
     "output_type": "execute_result"
    }
   ],
   "source": [
    "#TODO: hyperparameter optimization, this part must be included in the GridSearch iteration\n",
    "\n",
    "#%% Initialize network\n",
    "net = Network(vocab_size = vectors.shape[0],\n",
    "              embedding_dim = embedding_dim,\n",
    "              hidden_units = params['hidden_units'],\n",
    "              layers_num = params['layers_num'],\n",
    "              hidden_type = params['architecture'],\n",
    "              trained_embeddings = vectors,\n",
    "              freeze_embeddings = False,\n",
    "              dropout_prob = params['dropout_prob']\n",
    "             )\n",
    "\n",
    "# Define optimizer\n",
    "optimizer = optim.Adam(net.parameters(), lr=params['lr'], weight_decay=params['wd'])\n",
    "# Define loss function\n",
    "loss_fn = nn.MSELoss()\n",
    "cl = ''\n",
    "if classification == True:\n",
    "    loss_fn = nn.CrossEntropyLoss()\n",
    "    cl = '_class'\n",
    "\n",
    "net.to(device)"
   ]
  },
  {
   "cell_type": "code",
   "execution_count": null,
   "metadata": {
    "colab": {
     "base_uri": "https://localhost:8080/",
     "height": 466
    },
    "colab_type": "code",
    "id": "1ChGVuPFNBk5",
    "outputId": "49d215e0-67b4-4022-f23b-69bbca522b94",
    "scrolled": true
   },
   "outputs": [
    {
     "name": "stdout",
     "output_type": "stream",
     "text": [
      "\n",
      "\n",
      " EPOCH 1/100\n",
      "\t Training loss (epoch - mean):  7.075768387317657\n",
      "\t Validation loss (epoch - mean): 6.503434081410253\n",
      "I want you to know that the the the the the \n",
      "\n",
      " EPOCH 2/100\n",
      "\t Training loss (epoch - mean):  6.560609173774719\n",
      "\t Validation loss (epoch - mean): 6.771389745002569\n",
      "\n",
      "\n",
      " EPOCH 3/100\n",
      "\t Training loss (epoch - mean):  6.499650514125824\n",
      "\t Validation loss (epoch - mean): 6.619697421096092\n",
      "\n",
      "\n",
      " EPOCH 4/100\n",
      "\t Training loss (epoch - mean):  6.3799618005752565\n",
      "\t Validation loss (epoch - mean): 7.19299056918122\n",
      "\n",
      "\n",
      " EPOCH 5/100\n",
      "\t Training loss (epoch - mean):  6.709995067119598\n",
      "\t Validation loss (epoch - mean): 7.789236573285835\n",
      "\n",
      "\n",
      " EPOCH 6/100\n",
      "\t Training loss (epoch - mean):  6.389332902431488\n",
      "\t Validation loss (epoch - mean): 7.088695027107416\n",
      "\n",
      "\n",
      " EPOCH 7/100\n",
      "\t Training loss (epoch - mean):  6.111063361167908\n",
      "\t Validation loss (epoch - mean): 6.851114932880845\n",
      "\n",
      "\n",
      " EPOCH 8/100\n",
      "\t Training loss (epoch - mean):  6.248906767368316\n",
      "\t Validation loss (epoch - mean): 6.567051721173663\n",
      "\n",
      "\n",
      " EPOCH 9/100\n",
      "\t Training loss (epoch - mean):  6.048288822174072\n",
      "\t Validation loss (epoch - mean): 6.605346468992011\n",
      "\n",
      "\n",
      " EPOCH 10/100\n",
      "\t Training loss (epoch - mean):  6.2019092559814455\n",
      "\t Validation loss (epoch - mean): 6.193624607352323\n",
      "\n",
      "\n",
      " EPOCH 11/100\n",
      "\t Training loss (epoch - mean):  5.716013944149017\n",
      "\t Validation loss (epoch - mean): 6.685924430226171\n",
      "I want you to know that sword sword sword a . \n",
      "\n",
      " EPOCH 12/100\n",
      "\t Training loss (epoch - mean):  5.76141060590744\n",
      "\t Validation loss (epoch - mean): 6.36779399250829\n",
      "\n",
      "\n",
      " EPOCH 13/100\n",
      "\t Training loss (epoch - mean):  5.730659824609757\n",
      "\t Validation loss (epoch - mean): 7.188340192617372\n",
      "\n",
      "\n",
      " EPOCH 14/100\n",
      "\t Training loss (epoch - mean):  5.720473003387451\n",
      "\t Validation loss (epoch - mean): 6.252107146174409\n",
      "\n",
      "\n",
      " EPOCH 15/100\n",
      "\t Training loss (epoch - mean):  5.973263365030289\n",
      "\t Validation loss (epoch - mean): 6.477960381396981\n",
      "\n",
      "\n",
      " EPOCH 16/100\n",
      "\t Training loss (epoch - mean):  5.630152797698974\n",
      "\t Validation loss (epoch - mean): 6.313479143519734\n",
      "\n",
      "\n",
      " EPOCH 17/100\n",
      "\t Training loss (epoch - mean):  5.320412409305573\n",
      "\t Validation loss (epoch - mean): 6.416943092678869\n",
      "\n",
      "\n",
      " EPOCH 18/100\n",
      "\t Training loss (epoch - mean):  5.626057970523834\n",
      "\t Validation loss (epoch - mean): 6.360879471135694\n",
      "\n",
      "\n",
      " EPOCH 19/100\n",
      "\t Training loss (epoch - mean):  5.429230135679245\n",
      "\t Validation loss (epoch - mean): 6.778421867725461\n",
      "\n",
      "\n",
      " EPOCH 20/100\n",
      "\t Training loss (epoch - mean):  5.062382864952087\n",
      "\t Validation loss (epoch - mean): 6.440814546374387\n",
      "\n",
      "\n",
      " EPOCH 21/100\n",
      "\t Training loss (epoch - mean):  5.365673518180847\n",
      "\t Validation loss (epoch - mean): 6.464002002117246\n",
      "I want you to know that is tell \" \" \" \n",
      "\n",
      " EPOCH 22/100\n",
      "\t Training loss (epoch - mean):  5.105136770009994\n",
      "\t Validation loss (epoch - mean): 5.802021456319232\n",
      "\n",
      "\n",
      " EPOCH 23/100\n",
      "\t Training loss (epoch - mean):  5.018140345811844\n",
      "\t Validation loss (epoch - mean): 6.909094712068868\n",
      "\n",
      "\n",
      " EPOCH 24/100\n",
      "\t Training loss (epoch - mean):  4.829685264825821\n",
      "\t Validation loss (epoch - mean): 6.028102991192839\n",
      "\n",
      "\n",
      " EPOCH 25/100\n"
     ]
    }
   ],
   "source": [
    "%%time\n",
    "\n",
    "# Initialize WordToVector\n",
    "w2i = WordToIndex(words)\n",
    "\n",
    "# Define losses containers\n",
    "train_loss_epochs = []\n",
    "val_loss_epochs = []\n",
    "\n",
    "#%% Train network\n",
    "for epoch in range(params['num_epochs']):\n",
    "    print('\\n\\n EPOCH %d/%d' % (epoch + 1, params['num_epochs']))\n",
    "    \n",
    "    # Set training mode\n",
    "    net.train()\n",
    "    # Define losses container for one epoch\n",
    "    train_loss_log = []    \n",
    "    # Iterate batches\n",
    "    for batch_sample in train_dataloader:\n",
    "        # Extract batch\n",
    "        batch = batch_sample.long().to(device)\n",
    "        # Update network\n",
    "        batch_loss = net.train_batch(batch, loss_fn, optimizer)\n",
    "        train_loss_log.append(batch_loss)\n",
    "        \n",
    "    print('\\t Training loss (epoch - mean): ', np.mean(train_loss_log) )\n",
    "    train_loss_epochs.append(np.mean(train_loss_log))\n",
    "    \n",
    "    # Set evaluation mode\n",
    "    net.eval()\n",
    "    val_loss_log = []\n",
    "    # Iterate batches\n",
    "    with torch.no_grad():\n",
    "        for batch_sample in test_dataloader:\n",
    "            # Extract batch\n",
    "            batch = batch_sample.long().to(device)\n",
    "            # Update network\n",
    "            val_loss = net.test_batch(batch, loss_fn)\n",
    "            val_loss_log.append(val_loss)\n",
    "            \n",
    "        print('\\t Validation loss (epoch - mean):', np.mean(val_loss_log))\n",
    "        val_loss_epochs.append(np.mean(val_loss_log))\n",
    "        \n",
    "        if epoch%10 == 0:\n",
    "            if not classification:\n",
    "                # Embedding matrix - updated\n",
    "                X = net.embed.weight.detach().numpy()\n",
    "            # Set seed\n",
    "            seed = 'I want you to know that'\n",
    "            # Generate sample text\n",
    "            print('\\n\\nSample text:\\n')\n",
    "            _ = generate_text(net, seed, 5, device, words, w2i)\n",
    "            \n",
    "    # Early stopping\n",
    "    # if epoch>200 and abs(val_loss_epochs[-1] - val_loss_epochs[-200]) < 1e-10:\n",
    "    #    break\n",
    "    \n",
    "losses = { 'train': train_loss_epochs, 'val':  val_loss_epochs, 'params' : params }\n",
    "\n",
    "# Save losses dictionary\n",
    "with open(res_path + \"/\" + out_dir, 'wb') as f:\n",
    "    pickle.dump(losses, f, pickle.HIGHEST_PROTOCOL)\n",
    "    \n",
    "# Save model \n",
    "torch.save(net.state_dict(), res_path + \"/state_\" + out_dir + cl + '.pth')"
   ]
  },
  {
   "cell_type": "code",
   "execution_count": null,
   "metadata": {
    "colab": {},
    "colab_type": "code",
    "id": "1MSNBDkx39Mg"
   },
   "outputs": [],
   "source": [
    "# Plot losses\n",
    "plt.close('all')\n",
    "plt.figure(figsize=(12,8))\n",
    "\n",
    "plt.semilogy(train_loss_epochs, label='Train loss')\n",
    "plt.semilogy(val_loss_epochs, label='Validation loss', linestyle='dashed')\n",
    "\n",
    "plt.xlabel('Epoch')\n",
    "plt.ylabel('Loss')\n",
    "plt.grid()\n",
    "plt.legend()\n",
    "plt.tight_layout()\n",
    "plt.savefig(images_path + \"/model_losses_\"  + out_dir + cl + \".png\")\n",
    "plt.show()"
   ]
  },
  {
   "cell_type": "markdown",
   "metadata": {},
   "source": [
    "# Text generation"
   ]
  },
  {
   "cell_type": "code",
   "execution_count": null,
   "metadata": {},
   "outputs": [],
   "source": [
    "# Set seed\n",
    "seed = 'When you are alone in the middle of the sea'"
   ]
  },
  {
   "cell_type": "code",
   "execution_count": null,
   "metadata": {},
   "outputs": [],
   "source": [
    "# Load embeddings\n",
    "with open('./data/embeddings', 'rb') as f:\n",
    "    embeddings = pickle.load(f)\n",
    "# Get list of words\n",
    "words = [*embeddings.keys()]\n",
    "# Get vectors as float tensor\n",
    "vectors = torch.tensor([*embeddings.values()], dtype=torch.float)\n",
    "\n",
    "# Load hyperparameters\n",
    "with open(res_path + \"/\" + out_dir, 'rb') as f:\n",
    "    params = pickle.load(f)\n",
    "    params = params['params']\n",
    "    \n",
    "# Set device\n",
    "device = torch.device('cuda') if torch.cuda.is_available() else torch.device('cpu')\n",
    "\n",
    "# Load model\n",
    "state = torch.load(res_path + \"/state_\" + out_dir + cl + '.pth', map_location = device)\n",
    "\n",
    "net = Network(vocab_size = len(embeddings.keys()),\n",
    "              embedding_dim = 50,\n",
    "              hidden_units = params['hidden_units'],\n",
    "              layers_num = params['layers_num'],\n",
    "              hidden_type = params['architecture'],\n",
    "              trained_embeddings = vectors,\n",
    "              dropout_prob = params['dropout_prob']\n",
    "             )\n",
    "\n",
    "net.load_state_dict(state)\n",
    "\n",
    "# Embedding matrix - updated\n",
    "X = net.embed.weight.detach().numpy()\n",
    "\n",
    "net.to(device)"
   ]
  },
  {
   "cell_type": "code",
   "execution_count": null,
   "metadata": {},
   "outputs": [],
   "source": [
    "# Initialize WordToVector\n",
    "w2i = WordToIndex(words)"
   ]
  },
  {
   "cell_type": "code",
   "execution_count": null,
   "metadata": {},
   "outputs": [],
   "source": [
    "_ = generate_text(net, seed, 15, device, words, w2i)"
   ]
  },
  {
   "cell_type": "code",
   "execution_count": null,
   "metadata": {},
   "outputs": [],
   "source": []
  }
 ],
 "metadata": {
  "accelerator": "GPU",
  "colab": {
   "collapsed_sections": [],
   "name": "hw3.ipynb",
   "provenance": []
  },
  "kernelspec": {
   "display_name": "Python 3",
   "language": "python",
   "name": "python3"
  },
  "language_info": {
   "codemirror_mode": {
    "name": "ipython",
    "version": 3
   },
   "file_extension": ".py",
   "mimetype": "text/x-python",
   "name": "python",
   "nbconvert_exporter": "python",
   "pygments_lexer": "ipython3",
   "version": "3.7.4"
  }
 },
 "nbformat": 4,
 "nbformat_minor": 1
}
