{
 "cells": [
  {
   "cell_type": "code",
   "execution_count": 1,
   "metadata": {
    "colab": {},
    "colab_type": "code",
    "id": "VR-aozjuNBkn"
   },
   "outputs": [],
   "source": [
    "import json\n",
    "import pickle\n",
    "import numpy as np\n",
    "import matplotlib.pyplot as plt\n",
    "\n",
    "from torch import optim, nn\n",
    "from modules.dataset import *\n",
    "from modules.network import *\n",
    "from modules.embeddings import *\n",
    "from torch import save, device, cuda\n",
    "from torch.utils.data import DataLoader"
   ]
  },
  {
   "cell_type": "code",
   "execution_count": 2,
   "metadata": {
    "colab": {
     "base_uri": "https://localhost:8080/",
     "height": 35
    },
    "colab_type": "code",
    "id": "Y86jEOjaNBku",
    "outputId": "52f708ff-1c3a-406b-bdab-1cd5b31788d4"
   },
   "outputs": [
    {
     "name": "stdout",
     "output_type": "stream",
     "text": [
      "Selected device: cpu\n"
     ]
    }
   ],
   "source": [
    "device = device(\"cuda\") if cuda.is_available() else device(\"cpu\")\n",
    "print('Selected device:', device)"
   ]
  },
  {
   "cell_type": "raw",
   "metadata": {},
   "source": [
    "# Colab packages\n",
    "from google.colab import files, drive\n",
    "\n",
    "# Connect drive to colab\n",
    "drive.mount('/content/drive')\n",
    "\n",
    "# Create directories (Colab)\n",
    "!mkdir ./dataset\n",
    "!mkdir ./drive/My\\ Drive/Colab\\ Notebooks/results\n",
    "!mkdir ./drive/My\\ Drive/Colab\\ Notebooks/results/losses"
   ]
  },
  {
   "cell_type": "markdown",
   "metadata": {},
   "source": [
    "# Dataset"
   ]
  },
  {
   "cell_type": "markdown",
   "metadata": {},
   "source": [
    "## Loading and preprocessing"
   ]
  },
  {
   "cell_type": "code",
   "execution_count": 3,
   "metadata": {
    "colab": {},
    "colab_type": "code",
    "id": "NBpduFYANBkz"
   },
   "outputs": [
    {
     "data": {
      "text/plain": [
       "466"
      ]
     },
     "execution_count": 3,
     "metadata": {},
     "output_type": "execute_result"
    }
   ],
   "source": [
    "#%%Loading the dataset \n",
    "dataset = Mobydick('./data/mobydick.txt', min_len = 10)\n",
    "\n",
    "with open('./data/clean_text', 'wb') as f:\n",
    "    pickle.dump(dataset, f, pickle.HIGHEST_PROTOCOL)\n",
    "    \n",
    "len(dataset)"
   ]
  },
  {
   "cell_type": "code",
   "execution_count": 4,
   "metadata": {},
   "outputs": [
    {
     "name": "stdout",
     "output_type": "stream",
     "text": [
      "['some', 'years', 'ago', 'never', 'mind', 'how', 'long', 'precisely', 'having', 'little', 'or', 'no', 'money', 'in', 'my', 'purse', ',', 'and', 'nothing', 'particular', 'to', 'interest', 'me', 'on', 'shore', ',', 'i', 'thought', 'i', 'would', 'sail', 'about', 'a', 'little', 'and', 'see', 'the', 'watery', 'part', 'of', 'the', 'world', '.']\n"
     ]
    }
   ],
   "source": [
    "# Given a min_len>2, it is not necessary to delete the chapters titles\n",
    "print(dataset[0])"
   ]
  },
  {
   "cell_type": "code",
   "execution_count": 5,
   "metadata": {},
   "outputs": [
    {
     "name": "stdout",
     "output_type": "stream",
     "text": [
      "Mean sentence length: 30.446351931330472\n",
      "Max sentence length: 127\n",
      "Min sentence length: 10\n"
     ]
    },
    {
     "data": {
      "image/png": "[encoded data removed]",
      "text/plain": [
       "<Figure size 1008x432 with 2 Axes>"
      ]
     },
     "metadata": {
      "needs_background": "light"
     },
     "output_type": "display_data"
    }
   ],
   "source": [
    "# Dataset visualization\n",
    "lengths = [ len(sentence)  for sentence in dataset ]\n",
    "fig, axs = plt.subplots(1, 2, figsize=(14,6))\n",
    "axs.ravel()\n",
    "axs[0].set_title('Sentence length values')\n",
    "axs[0].set_xlabel('sentence index')\n",
    "axs[0].set_ylabel('sentence length')\n",
    "_ = axs[0].plot(lengths, '.')\n",
    "axs[1].set_title('Sentence length distribution')\n",
    "axs[1].set_xlabel('sentence length')\n",
    "axs[1].set_ylabel('length probability')\n",
    "_ = axs[1].hist(lengths, bins=40, density=True)\n",
    "\n",
    "print('Mean sentence length:', np.mean(lengths))\n",
    "print('Max sentence length:', np.max(lengths))\n",
    "print('Min sentence length:', np.min(lengths))"
   ]
  },
  {
   "cell_type": "code",
   "execution_count": 6,
   "metadata": {},
   "outputs": [
    {
     "name": "stdout",
     "output_type": "stream",
     "text": [
      "14188\n"
     ]
    }
   ],
   "source": [
    "# Word visualization\n",
    "print(len(dataset.words))"
   ]
  },
  {
   "cell_type": "markdown",
   "metadata": {},
   "source": [
    "## Word embeddings"
   ]
  },
  {
   "cell_type": "code",
   "execution_count": 7,
   "metadata": {},
   "outputs": [],
   "source": [
    "# Define the embedding dimension\n",
    "embedding_dim = 50\n",
    "\n",
    "# Copy dataset words\n",
    "words = set(dataset.words.copy())"
   ]
  },
  {
   "cell_type": "raw",
   "metadata": {},
   "source": [
    "%%time \n",
    "\n",
    "# Load embeddings from glove\n",
    "glove = from_file(path='data/glove.6B.50d.txt',\n",
    "                  words=words\n",
    "                 )"
   ]
  },
  {
   "cell_type": "raw",
   "metadata": {},
   "source": [
    "# Analyse glove embeddings\n",
    "print('Mean:', np.mean(list(glove.values())), ', STD: ', np.std(list(glove.values())) )"
   ]
  },
  {
   "cell_type": "raw",
   "metadata": {},
   "source": [
    "# Define embeddings for unknown words by sampling from normal distirbution, using found parameters\n",
    "mean = np.mean(list(glove.values()))\n",
    "std = np.std(list(glove.values())) \n",
    "\n",
    "# Initialize randomly sampled embeddings\n",
    "embeddings = gaussian_sampling(mean, std, dim=embedding_dim, words=words)\n",
    "# Loop through each embedded word\n",
    "for word, vector in embeddings.items():\n",
    "    # Subsititute current entry with glove one, if available\n",
    "    embeddings[word] = glove.get(word, vector)\n",
    "\n",
    "# Get list of words\n",
    "words = [*embeddings.keys()]\n",
    "# Get vectors as float tensor\n",
    "vectors = torch.tensor([*embeddings.values()], dtype=torch.float)"
   ]
  },
  {
   "cell_type": "raw",
   "metadata": {},
   "source": [
    "vectors.shape"
   ]
  },
  {
   "cell_type": "raw",
   "metadata": {},
   "source": [
    "# Analyse generated embeddings\n",
    "print('Mean:', np.mean(list(embeddings.values())), ', STD: ', np.std(list(embeddings.values())) )"
   ]
  },
  {
   "cell_type": "raw",
   "metadata": {},
   "source": [
    "a = vectors.shape[0] # obtained with all words in vocab and in glove + words in vocab not in glove\n",
    "b = len(set(glove.keys()) & set(dataset.words)) + len(set(dataset.words) - set(glove.keys())) \n",
    "# sanity check\n",
    "a == b"
   ]
  },
  {
   "cell_type": "raw",
   "metadata": {},
   "source": [
    "with open('./data/embeddings', 'wb') as f:\n",
    "    pickle.dump(embeddings, f, pickle.HIGHEST_PROTOCOL)"
   ]
  },
  {
   "cell_type": "code",
   "execution_count": 8,
   "metadata": {},
   "outputs": [],
   "source": [
    "# Load embeddings\n",
    "with open('./data/embeddings', 'rb') as f:\n",
    "    embeddings = pickle.load(f)\n",
    "\n",
    "# Get list of words\n",
    "words = [*embeddings.keys()]\n",
    "# Get vectors as float tensor\n",
    "vectors = torch.tensor([*embeddings.values()], dtype=torch.float)"
   ]
  },
  {
   "cell_type": "code",
   "execution_count": 9,
   "metadata": {},
   "outputs": [],
   "source": [
    "# Define transformation \n",
    "dataset.transform = transforms.Compose([\n",
    "    RandomCrop(8),\n",
    "    WordToVector(words),\n",
    "    ToTensor()\n",
    "])"
   ]
  },
  {
   "cell_type": "code",
   "execution_count": 10,
   "metadata": {},
   "outputs": [
    {
     "data": {
      "text/plain": [
       "torch.Size([8])"
      ]
     },
     "execution_count": 10,
     "metadata": {},
     "output_type": "execute_result"
    }
   ],
   "source": [
    "# Defined the transform, this call returns the word index (after random cropping)\n",
    "dataset[0].shape"
   ]
  },
  {
   "cell_type": "markdown",
   "metadata": {},
   "source": [
    "# LSTM"
   ]
  },
  {
   "cell_type": "code",
   "execution_count": 11,
   "metadata": {
    "colab": {},
    "colab_type": "code",
    "id": "4ZNAdwzKNBkr"
   },
   "outputs": [],
   "source": [
    "##Parameters\n",
    "\n",
    "# network\n",
    "hidden_units = 2**6 # symmetric layers\n",
    "layers_num = 2\n",
    "dropout_prob = 0.4\n",
    "\n",
    "# training\n",
    "batch_size = 100\n",
    "num_epochs = 10000\n",
    "\n",
    "# optimizer\n",
    "lr = 1e-2\n",
    "wd = 1e-3\n",
    "\n",
    "# save\n",
    "out_dir = f'LSTM_{hidden_units}_{layers_num}_{dropout_prob}'"
   ]
  },
  {
   "cell_type": "code",
   "execution_count": 12,
   "metadata": {},
   "outputs": [],
   "source": [
    "# Split initial dataset in train dataset and test dataset\n",
    "train_dataset, test_dataset = split_train_test(dataset, 0.9)\n",
    "# Make train dataloader\n",
    "train_dataloader = DataLoader(train_dataset, batch_size=batch_size, shuffle=True)\n",
    "# Make test dataloader\n",
    "test_dataloader = DataLoader(test_dataset, batch_size=batch_size, shuffle=False)"
   ]
  },
  {
   "cell_type": "code",
   "execution_count": 13,
   "metadata": {
    "colab": {},
    "colab_type": "code",
    "id": "oc8u0owgNBk2"
   },
   "outputs": [
    {
     "data": {
      "text/plain": [
       "Network(\n",
       "  (rnn): LSTM(50, 64, num_layers=2, batch_first=True, dropout=0.4)\n",
       "  (out): Linear(in_features=64, out_features=50, bias=True)\n",
       "  (embed): Embedding(2998, 50)\n",
       ")"
      ]
     },
     "execution_count": 13,
     "metadata": {},
     "output_type": "execute_result"
    }
   ],
   "source": [
    "#TODO: hyperparameter optimization, this part must be included in the GridSearch iteration\n",
    "\n",
    "#%% Initialize network\n",
    "net = Network(vocab_size = vectors.shape[0],\n",
    "              embedding_dim = embedding_dim,\n",
    "              hidden_units = hidden_units,\n",
    "              layers_num = layers_num,\n",
    "              hidden_type = 'LSTM',\n",
    "              trained_embeddings = vectors,\n",
    "              dropout_prob = dropout_prob\n",
    "             )\n",
    "\n",
    "# Define optimizer\n",
    "optimizer = optim.Adam(net.parameters(), lr=lr, weight_decay=wd)\n",
    "# Define loss function\n",
    "loss_fn = nn.MSELoss()\n",
    "# loss_fn = nn.NLLLoss()\n",
    "\n",
    "net.to(device)"
   ]
  },
  {
   "cell_type": "code",
   "execution_count": 14,
   "metadata": {},
   "outputs": [],
   "source": [
    "# w2v = WordToVector(words)\n",
    "# w2v.decoder"
   ]
  },
  {
   "cell_type": "code",
   "execution_count": 17,
   "metadata": {
    "colab": {
     "base_uri": "https://localhost:8080/",
     "height": 466
    },
    "colab_type": "code",
    "id": "1ChGVuPFNBk5",
    "outputId": "49d215e0-67b4-4022-f23b-69bbca522b94"
   },
   "outputs": [
    {
     "name": "stdout",
     "output_type": "stream",
     "text": [
      "##################################\n",
      "## EPOCH 1\n",
      "##################################\n",
      "batch shape: torch.Size([100, 8])\n",
      "out shape: torch.Size([100, 50])\n",
      "embed target shape: torch.Size([100, 50])\n",
      "batch shape: torch.Size([100, 8])\n",
      "out shape: torch.Size([100, 50])\n",
      "embed target shape: torch.Size([100, 50])\n",
      "batch shape: torch.Size([100, 8])\n",
      "out shape: torch.Size([100, 50])\n",
      "embed target shape: torch.Size([100, 50])\n",
      "batch shape: torch.Size([100, 8])\n",
      "out shape: torch.Size([100, 50])\n",
      "embed target shape: torch.Size([100, 50])\n",
      "batch shape: torch.Size([19, 8])\n",
      "out shape: torch.Size([19, 50])\n",
      "embed target shape: torch.Size([19, 50])\n",
      "\t Training loss (epoch - mean):  0.21135662794113158\n",
      "\t Validation loss (epoch): 0.12447865307331085\n",
      "##################################\n",
      "## EPOCH 2\n",
      "##################################\n",
      "batch shape: torch.Size([100, 8])\n",
      "out shape: torch.Size([100, 50])\n",
      "embed target shape: torch.Size([100, 50])\n",
      "batch shape: torch.Size([100, 8])\n",
      "out shape: torch.Size([100, 50])\n",
      "embed target shape: torch.Size([100, 50])\n",
      "batch shape: torch.Size([100, 8])\n",
      "out shape: torch.Size([100, 50])\n",
      "embed target shape: torch.Size([100, 50])\n",
      "batch shape: torch.Size([100, 8])\n",
      "out shape: torch.Size([100, 50])\n",
      "embed target shape: torch.Size([100, 50])\n",
      "batch shape: torch.Size([19, 8])\n",
      "out shape: torch.Size([19, 50])\n",
      "embed target shape: torch.Size([19, 50])\n",
      "\t Training loss (epoch - mean):  0.1954650580883026\n",
      "\t Validation loss (epoch): 0.16862453520298004\n",
      "##################################\n",
      "## EPOCH 3\n",
      "##################################\n",
      "batch shape: torch.Size([100, 8])\n",
      "out shape: torch.Size([100, 50])\n",
      "embed target shape: torch.Size([100, 50])\n",
      "batch shape: torch.Size([100, 8])\n",
      "out shape: torch.Size([100, 50])\n",
      "embed target shape: torch.Size([100, 50])\n",
      "batch shape: torch.Size([100, 8])\n",
      "out shape: torch.Size([100, 50])\n",
      "embed target shape: torch.Size([100, 50])\n",
      "batch shape: torch.Size([100, 8])\n",
      "out shape: torch.Size([100, 50])\n",
      "embed target shape: torch.Size([100, 50])\n",
      "batch shape: torch.Size([19, 8])\n",
      "out shape: torch.Size([19, 50])\n",
      "embed target shape: torch.Size([19, 50])\n",
      "\t Training loss (epoch - mean):  0.15508730709552765\n",
      "\t Validation loss (epoch): 0.11326878517866135\n",
      "##################################\n",
      "## EPOCH 4\n",
      "##################################\n",
      "batch shape: torch.Size([100, 8])\n",
      "out shape: torch.Size([100, 50])\n",
      "embed target shape: torch.Size([100, 50])\n",
      "batch shape: torch.Size([100, 8])\n",
      "out shape: torch.Size([100, 50])\n",
      "embed target shape: torch.Size([100, 50])\n",
      "batch shape: torch.Size([100, 8])\n",
      "out shape: torch.Size([100, 50])\n",
      "embed target shape: torch.Size([100, 50])\n",
      "batch shape: torch.Size([100, 8])\n",
      "out shape: torch.Size([100, 50])\n",
      "embed target shape: torch.Size([100, 50])\n",
      "batch shape: torch.Size([19, 8])\n",
      "out shape: torch.Size([19, 50])\n",
      "embed target shape: torch.Size([19, 50])\n",
      "\t Training loss (epoch - mean):  0.13491673469543458\n",
      "\t Validation loss (epoch): 0.09473414719104767\n",
      "##################################\n",
      "## EPOCH 5\n",
      "##################################\n",
      "batch shape: torch.Size([100, 8])\n",
      "out shape: torch.Size([100, 50])\n",
      "embed target shape: torch.Size([100, 50])\n",
      "batch shape: torch.Size([100, 8])\n",
      "out shape: torch.Size([100, 50])\n",
      "embed target shape: torch.Size([100, 50])\n",
      "batch shape: torch.Size([100, 8])\n",
      "out shape: torch.Size([100, 50])\n",
      "embed target shape: torch.Size([100, 50])\n",
      "batch shape: torch.Size([100, 8])\n",
      "out shape: torch.Size([100, 50])\n",
      "embed target shape: torch.Size([100, 50])\n",
      "batch shape: torch.Size([19, 8])\n",
      "out shape: torch.Size([19, 50])\n",
      "embed target shape: torch.Size([19, 50])\n",
      "\t Training loss (epoch - mean):  0.12820921391248702\n",
      "\t Validation loss (epoch): 0.1432322859764099\n",
      "CPU times: user 1.14 s, sys: 47.9 ms, total: 1.18 s\n",
      "Wall time: 595 ms\n"
     ]
    }
   ],
   "source": [
    "%%time\n",
    "\n",
    "#%% Train network\n",
    "\n",
    "# Define losses containers\n",
    "train_loss_epochs = []\n",
    "val_loss_epochs = []\n",
    "\n",
    "for epoch in range(num_epochs):\n",
    "    print('##################################')\n",
    "    print('## EPOCH %d' % (epoch + 1))\n",
    "    print('##################################')\n",
    "    \n",
    "    # Set training mode\n",
    "    net.train()\n",
    "    # Define losses container for one epoch\n",
    "    train_loss_log = []\n",
    "    \n",
    "    # Iterate batches\n",
    "    for batch_sample in train_dataloader:\n",
    "        # Extract batch\n",
    "        batch = batch_sample.long().to(device)\n",
    "        # Update network\n",
    "        batch_loss = net.train_batch(batch, loss_fn, optimizer)\n",
    "        train_loss_log.append(batch_loss)\n",
    "        # print('\\t Training loss (single batch):', batch_loss)\n",
    "        \n",
    "    print('\\t Training loss (epoch - mean): ', np.mean(train_loss_log) )\n",
    "    train_loss_epochs.append(np.mean(train_loss_log))\n",
    "    \n",
    "    # Set evaluation mode\n",
    "    net.eval()\n",
    "    with torch.no_grad():\n",
    "        val_loss = net.test_batch(batch, loss_fn)\n",
    "        print('\\t Validation loss (epoch):', val_loss)\n",
    "        val_loss_epochs.append(val_loss)\n",
    "    \n",
    "losses = { 'train': train_loss_epochs, 'val':  val_loss_epochs }\n",
    "\n",
    "# Save losses dictionary\n",
    "# res_path = \"./drive/My Drive/Colab Notebooks/results/losses\"\n",
    "# with open(res_path + \"/\" + out_dir, 'wb') as f:\n",
    "#     pickle.dump(losses, f, pickle.HIGHEST_PROTOCOL)"
   ]
  },
  {
   "cell_type": "code",
   "execution_count": null,
   "metadata": {
    "colab": {},
    "colab_type": "code",
    "id": "1MSNBDkx39Mg"
   },
   "outputs": [],
   "source": []
  }
 ],
 "metadata": {
  "accelerator": "GPU",
  "colab": {
   "collapsed_sections": [],
   "name": "hw3.ipynb",
   "provenance": []
  },
  "kernelspec": {
   "display_name": "Python 3",
   "language": "python",
   "name": "python3"
  },
  "language_info": {
   "codemirror_mode": {
    "name": "ipython",
    "version": 3
   },
   "file_extension": ".py",
   "mimetype": "text/x-python",
   "name": "python",
   "nbconvert_exporter": "python",
   "pygments_lexer": "ipython3",
   "version": "3.7.4"
  }
 },
 "nbformat": 4,
 "nbformat_minor": 1
}
