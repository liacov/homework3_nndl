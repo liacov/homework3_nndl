{
 "cells": [
  {
   "cell_type": "code",
   "execution_count": 1,
   "metadata": {
    "colab": {
     "base_uri": "https://localhost:8080/",
     "height": 34
    },
    "colab_type": "code",
    "executionInfo": {
     "elapsed": 7310,
     "status": "ok",
     "timestamp": 1598699229138,
     "user": {
      "displayName": "Laura Iacovissi",
      "photoUrl": "https://lh3.googleusercontent.com/a-/AOh14GhYw-l84xlTUZkCtx1pCyDydEojYnT58zxwem0Z4g=s64",
      "userId": "09823519954946283449"
     },
     "user_tz": -120
    },
    "id": "VR-aozjuNBkn",
    "outputId": "078def9b-0785-4ede-bda4-ad699cd97393"
   },
   "outputs": [
    {
     "name": "stdout",
     "output_type": "stream",
     "text": [
      "Requirement already satisfied: unidecode in /usr/local/lib/python3.6/dist-packages (1.1.1)\n"
     ]
    }
   ],
   "source": [
    "!pip install unidecode\n",
    "\n",
    "import pickle\n",
    "import numpy as np\n",
    "import matplotlib.pyplot as plt\n",
    "\n",
    "from torch import optim, nn\n",
    "from modules.dataset import *\n",
    "from modules.network import *\n",
    "from modules.embeddings import *\n",
    "from modules.generate_text import *\n",
    "from torch import save, device, cuda\n",
    "from torch.utils.data import DataLoader"
   ]
  },
  {
   "cell_type": "code",
   "execution_count": 2,
   "metadata": {
    "colab": {
     "base_uri": "https://localhost:8080/",
     "height": 34
    },
    "colab_type": "code",
    "executionInfo": {
     "elapsed": 8641,
     "status": "ok",
     "timestamp": 1598699230724,
     "user": {
      "displayName": "Laura Iacovissi",
      "photoUrl": "https://lh3.googleusercontent.com/a-/AOh14GhYw-l84xlTUZkCtx1pCyDydEojYnT58zxwem0Z4g=s64",
      "userId": "09823519954946283449"
     },
     "user_tz": -120
    },
    "id": "Y86jEOjaNBku",
    "outputId": "e1556cca-c7f9-4f79-e20f-df52c72681e7"
   },
   "outputs": [
    {
     "name": "stdout",
     "output_type": "stream",
     "text": [
      "Selected device: cuda\n"
     ]
    }
   ],
   "source": [
    "device = device(\"cuda\") if cuda.is_available() else device(\"cpu\")\n",
    "print('Selected device:', device)"
   ]
  },
  {
   "cell_type": "code",
   "execution_count": 3,
   "metadata": {
    "colab": {
     "base_uri": "https://localhost:8080/",
     "height": 105
    },
    "colab_type": "code",
    "executionInfo": {
     "elapsed": 8443,
     "status": "ok",
     "timestamp": 1598699230727,
     "user": {
      "displayName": "Laura Iacovissi",
      "photoUrl": "https://lh3.googleusercontent.com/a-/AOh14GhYw-l84xlTUZkCtx1pCyDydEojYnT58zxwem0Z4g=s64",
      "userId": "09823519954946283449"
     },
     "user_tz": -120
    },
    "id": "hU2V_kCdIeCy",
    "outputId": "ea5f1c6e-cf93-4b5d-dd07-dc97689c99de"
   },
   "outputs": [
    {
     "name": "stdout",
     "output_type": "stream",
     "text": [
      "Drive already mounted at /content/drive; to attempt to forcibly remount, call drive.mount(\"/content/drive\", force_remount=True).\n",
      "mkdir: cannot create directory ‘./drive/My Drive/Colab Notebooks/images’: File exists\n",
      "mkdir: cannot create directory ‘./drive/My Drive/Colab Notebooks/results’: File exists\n",
      "mkdir: cannot create directory ‘./drive/My Drive/Colab Notebooks/results/losses’: File exists\n"
     ]
    }
   ],
   "source": [
    "# Colab packages\n",
    "from google.colab import files, drive\n",
    "\n",
    "# Connect drive to colab\n",
    "drive.mount('/content/drive')\n",
    "\n",
    "# Create directories (Colab)\n",
    "!mkdir ./drive/My\\ Drive/Colab\\ Notebooks/images\n",
    "!mkdir ./drive/My\\ Drive/Colab\\ Notebooks/results\n",
    "!mkdir ./drive/My\\ Drive/Colab\\ Notebooks/results/losses\n",
    "\n",
    "# Set paths\n",
    "images_path = \"./drive/My Drive/Colab Notebooks/images\"\n",
    "res_path = \"./drive/My Drive/Colab Notebooks/results/losses\"\n",
    "\n",
    "# Set local paths\n",
    "# images_path = \"./images\"\n",
    "# res_path = \"./data/losses\""
   ]
  },
  {
   "cell_type": "markdown",
   "metadata": {
    "colab_type": "text",
    "id": "i1ln9C52IeC2"
   },
   "source": [
    "# Dataset"
   ]
  },
  {
   "cell_type": "markdown",
   "metadata": {
    "colab_type": "text",
    "id": "HQGDzXHmIeC3"
   },
   "source": [
    "## Loading and preprocessing"
   ]
  },
  {
   "cell_type": "code",
   "execution_count": 4,
   "metadata": {
    "colab": {
     "base_uri": "https://localhost:8080/",
     "height": 34
    },
    "colab_type": "code",
    "executionInfo": {
     "elapsed": 11534,
     "status": "ok",
     "timestamp": 1598699233981,
     "user": {
      "displayName": "Laura Iacovissi",
      "photoUrl": "https://lh3.googleusercontent.com/a-/AOh14GhYw-l84xlTUZkCtx1pCyDydEojYnT58zxwem0Z4g=s64",
      "userId": "09823519954946283449"
     },
     "user_tz": -120
    },
    "id": "NBpduFYANBkz",
    "outputId": "db097956-7874-45ba-f730-15220a9323ab"
   },
   "outputs": [
    {
     "data": {
      "text/plain": [
       "21374"
      ]
     },
     "execution_count": 4,
     "metadata": {
      "tags": []
     },
     "output_type": "execute_result"
    }
   ],
   "source": [
    "#%%Loading the dataset \n",
    "\n",
    "min_len = 18\n",
    "dataset = Bible('./data/bible.txt', min_len = min_len)\n",
    "\n",
    "    \n",
    "len(dataset)"
   ]
  },
  {
   "cell_type": "code",
   "execution_count": 5,
   "metadata": {
    "colab": {},
    "colab_type": "code",
    "executionInfo": {
     "elapsed": 11450,
     "status": "ok",
     "timestamp": 1598699233985,
     "user": {
      "displayName": "Laura Iacovissi",
      "photoUrl": "https://lh3.googleusercontent.com/a-/AOh14GhYw-l84xlTUZkCtx1pCyDydEojYnT58zxwem0Z4g=s64",
      "userId": "09823519954946283449"
     },
     "user_tz": -120
    },
    "id": "57lLE35lIeC8"
   },
   "outputs": [],
   "source": [
    "# Check if every sentence begins with two \":\"\n",
    "i, j = 0, 0\n",
    "for sentence in dataset:\n",
    "    if sentence[0] == ':' and  sentence[1] == ':':\n",
    "        i += 1\n",
    "    elif sentence[0] == ':' and  sentence[1] != ':':\n",
    "        j += 1"
   ]
  },
  {
   "cell_type": "code",
   "execution_count": 6,
   "metadata": {
    "colab": {
     "base_uri": "https://localhost:8080/",
     "height": 34
    },
    "colab_type": "code",
    "executionInfo": {
     "elapsed": 11334,
     "status": "ok",
     "timestamp": 1598699233986,
     "user": {
      "displayName": "Laura Iacovissi",
      "photoUrl": "https://lh3.googleusercontent.com/a-/AOh14GhYw-l84xlTUZkCtx1pCyDydEojYnT58zxwem0Z4g=s64",
      "userId": "09823519954946283449"
     },
     "user_tz": -120
    },
    "id": "xAnnNDpGIeDC",
    "outputId": "affeb85b-6291-4aaf-dcb2-93d61edd1638"
   },
   "outputs": [
    {
     "data": {
      "text/plain": [
       "0"
      ]
     },
     "execution_count": 6,
     "metadata": {
      "tags": []
     },
     "output_type": "execute_result"
    }
   ],
   "source": [
    "i"
   ]
  },
  {
   "cell_type": "code",
   "execution_count": 7,
   "metadata": {
    "colab": {
     "base_uri": "https://localhost:8080/",
     "height": 34
    },
    "colab_type": "code",
    "executionInfo": {
     "elapsed": 11116,
     "status": "ok",
     "timestamp": 1598699233987,
     "user": {
      "displayName": "Laura Iacovissi",
      "photoUrl": "https://lh3.googleusercontent.com/a-/AOh14GhYw-l84xlTUZkCtx1pCyDydEojYnT58zxwem0Z4g=s64",
      "userId": "09823519954946283449"
     },
     "user_tz": -120
    },
    "id": "nMRIZQwBIeDH",
    "outputId": "8feef001-09c4-4be6-a3ce-8734a36b02b3"
   },
   "outputs": [
    {
     "data": {
      "text/plain": [
       "0"
      ]
     },
     "execution_count": 7,
     "metadata": {
      "tags": []
     },
     "output_type": "execute_result"
    }
   ],
   "source": [
    "j"
   ]
  },
  {
   "cell_type": "code",
   "execution_count": 8,
   "metadata": {
    "colab": {
     "base_uri": "https://localhost:8080/",
     "height": 433
    },
    "colab_type": "code",
    "executionInfo": {
     "elapsed": 12198,
     "status": "ok",
     "timestamp": 1598699235251,
     "user": {
      "displayName": "Laura Iacovissi",
      "photoUrl": "https://lh3.googleusercontent.com/a-/AOh14GhYw-l84xlTUZkCtx1pCyDydEojYnT58zxwem0Z4g=s64",
      "userId": "09823519954946283449"
     },
     "user_tz": -120
    },
    "id": "nBvs7_v8IeDL",
    "outputId": "06c9315f-5586-40d5-a00b-62fec7e30fec"
   },
   "outputs": [
    {
     "name": "stdout",
     "output_type": "stream",
     "text": [
      "Mean sentence length: 31.432675212875456\n",
      "Max sentence length: 102\n",
      "Min sentence length: 18\n"
     ]
    },
    {
     "data": {
      "image/png": "[encoded data removed]",
      "text/plain": [
       "<Figure size 1008x432 with 2 Axes>"
      ]
     },
     "metadata": {
      "needs_background": "light",
      "tags": []
     },
     "output_type": "display_data"
    }
   ],
   "source": [
    "# Dataset visualization\n",
    "lengths = [ len(sentence)  for sentence in dataset ]\n",
    "fig, axs = plt.subplots(1, 2, figsize=(14,6))\n",
    "axs.ravel()\n",
    "axs[0].set_title('Sentence length values')\n",
    "axs[0].set_xlabel('sentence index')\n",
    "axs[0].set_ylabel('sentence length')\n",
    "_ = axs[0].plot(lengths, '.')\n",
    "axs[1].set_title('Sentence length distribution')\n",
    "axs[1].set_xlabel('sentence length')\n",
    "axs[1].set_ylabel('length probability')\n",
    "_ = axs[1].hist(lengths, bins=40, density=True)\n",
    "\n",
    "print('Mean sentence length:', np.mean(lengths))\n",
    "print('Max sentence length:', np.max(lengths))\n",
    "print('Min sentence length:', np.min(lengths))\n",
    "\n",
    "plt.tight_layout()\n",
    "plt.savefig(images_path+f'/bible_{min_len}.png')\n",
    "plt.show()"
   ]
  },
  {
   "cell_type": "code",
   "execution_count": 9,
   "metadata": {
    "colab": {
     "base_uri": "https://localhost:8080/",
     "height": 34
    },
    "colab_type": "code",
    "executionInfo": {
     "elapsed": 12030,
     "status": "ok",
     "timestamp": 1598699235253,
     "user": {
      "displayName": "Laura Iacovissi",
      "photoUrl": "https://lh3.googleusercontent.com/a-/AOh14GhYw-l84xlTUZkCtx1pCyDydEojYnT58zxwem0Z4g=s64",
      "userId": "09823519954946283449"
     },
     "user_tz": -120
    },
    "id": "IV8YzqIEIeDP",
    "outputId": "b2cbf8a0-bca6-493a-e1ae-517d18a1e63c"
   },
   "outputs": [
    {
     "name": "stdout",
     "output_type": "stream",
     "text": [
      "10775\n"
     ]
    }
   ],
   "source": [
    "print(len(set(dataset.words)))"
   ]
  },
  {
   "cell_type": "markdown",
   "metadata": {
    "colab_type": "text",
    "id": "gD6xObhIIeDX"
   },
   "source": [
    "## Word embeddings"
   ]
  },
  {
   "cell_type": "code",
   "execution_count": 10,
   "metadata": {
    "colab": {},
    "colab_type": "code",
    "executionInfo": {
     "elapsed": 11789,
     "status": "ok",
     "timestamp": 1598699235267,
     "user": {
      "displayName": "Laura Iacovissi",
      "photoUrl": "https://lh3.googleusercontent.com/a-/AOh14GhYw-l84xlTUZkCtx1pCyDydEojYnT58zxwem0Z4g=s64",
      "userId": "09823519954946283449"
     },
     "user_tz": -120
    },
    "id": "5_rTDIcDIeDX"
   },
   "outputs": [],
   "source": [
    "# Define the embedding dimension\n",
    "embedding_dim = 50\n",
    "\n",
    "# Copy dataset words\n",
    "words = set(dataset.words.copy())"
   ]
  },
  {
   "cell_type": "code",
   "execution_count": null,
   "metadata": {
    "colab_type": "raw",
    "id": "DxtACFKVIeDc"
   },
   "outputs": [],
   "source": [
    "%%time \n",
    "\n",
    "# Load embeddings from glove\n",
    "glove = from_file(path='data/glove.6B.50d.txt',\n",
    "                  words=words\n",
    "                 )"
   ]
  },
  {
   "cell_type": "code",
   "execution_count": null,
   "metadata": {
    "colab_type": "raw",
    "id": "2r2z4zfMIeDd"
   },
   "outputs": [],
   "source": [
    "# Analyse glove embeddings\n",
    "print('Mean:', np.mean(list(glove.values())), ', STD: ', np.std(list(glove.values())) )"
   ]
  },
  {
   "cell_type": "code",
   "execution_count": null,
   "metadata": {
    "colab_type": "raw",
    "id": "Q_KIaPgaIeDd"
   },
   "outputs": [],
   "source": [
    "# Define embeddings for unknown words by sampling from normal distirbution, using found parameters\n",
    "mean = np.mean(list(glove.values()))\n",
    "std = np.std(list(glove.values())) \n",
    "\n",
    "# Initialize randomly sampled embeddings\n",
    "embeddings = gaussian_sampling(mean, std, dim=embedding_dim, words=words)\n",
    "# Loop through each embedded word\n",
    "for word, vector in embeddings.items():\n",
    "    # Subsititute current entry with glove one, if available\n",
    "    embeddings[word] = glove.get(word, vector)\n",
    "\n",
    "# Get list of words\n",
    "words = [*embeddings.keys()]\n",
    "# Get vectors as float tensor\n",
    "vectors = torch.tensor([*embeddings.values()], dtype=torch.float)"
   ]
  },
  {
   "cell_type": "code",
   "execution_count": null,
   "metadata": {
    "colab_type": "raw",
    "id": "Vx8xMqB7IeDe"
   },
   "outputs": [],
   "source": [
    "vectors.shape"
   ]
  },
  {
   "cell_type": "code",
   "execution_count": null,
   "metadata": {
    "colab_type": "raw",
    "id": "mcRQkaGMIeDf"
   },
   "outputs": [],
   "source": [
    "# Analyse generated embeddings\n",
    "print('Mean:', np.mean(list(embeddings.values())), ', STD: ', np.std(list(embeddings.values())) )"
   ]
  },
  {
   "cell_type": "code",
   "execution_count": null,
   "metadata": {
    "colab_type": "raw",
    "id": "C_1pgOQPIeDg"
   },
   "outputs": [],
   "source": [
    "a = vectors.shape[0] # obtained with all words in vocab and in glove + words in vocab not in glove\n",
    "b = len(set(glove.keys()) & set(dataset.words)) + len(set(dataset.words) - set(glove.keys())) \n",
    "# sanity check\n",
    "a == b"
   ]
  },
  {
   "cell_type": "code",
   "execution_count": null,
   "metadata": {
    "colab_type": "raw",
    "id": "a61Yko5xIeDg"
   },
   "outputs": [],
   "source": [
    "with open('./data/embeddings_bible', 'wb') as f:\n",
    "    pickle.dump(embeddings, f, pickle.HIGHEST_PROTOCOL)"
   ]
  },
  {
   "cell_type": "code",
   "execution_count": 11,
   "metadata": {
    "colab": {},
    "colab_type": "code",
    "executionInfo": {
     "elapsed": 11683,
     "status": "ok",
     "timestamp": 1598699235288,
     "user": {
      "displayName": "Laura Iacovissi",
      "photoUrl": "https://lh3.googleusercontent.com/a-/AOh14GhYw-l84xlTUZkCtx1pCyDydEojYnT58zxwem0Z4g=s64",
      "userId": "09823519954946283449"
     },
     "user_tz": -120
    },
    "id": "Nx7FgZ7OIeDh"
   },
   "outputs": [],
   "source": [
    "# Load embeddings\n",
    "with open('./data/embeddings_bible', 'rb') as f:\n",
    "    embeddings = pickle.load(f)\n",
    "\n",
    "# Get list of words\n",
    "words = [*embeddings.keys()]\n",
    "# Get vectors as float tensor\n",
    "vectors = torch.tensor([*embeddings.values()], dtype=torch.float)"
   ]
  },
  {
   "cell_type": "code",
   "execution_count": 12,
   "metadata": {
    "colab": {},
    "colab_type": "code",
    "executionInfo": {
     "elapsed": 11477,
     "status": "ok",
     "timestamp": 1598699235290,
     "user": {
      "displayName": "Laura Iacovissi",
      "photoUrl": "https://lh3.googleusercontent.com/a-/AOh14GhYw-l84xlTUZkCtx1pCyDydEojYnT58zxwem0Z4g=s64",
      "userId": "09823519954946283449"
     },
     "user_tz": -120
    },
    "id": "9PUYWQegIeDk"
   },
   "outputs": [],
   "source": [
    "crop_len = 15\n",
    "\n",
    "# Define transformation \n",
    "dataset.transform = transforms.Compose([\n",
    "    RandomCrop(crop_len),\n",
    "    WordToIndex(words),\n",
    "    ToTensor()\n",
    "])"
   ]
  },
  {
   "cell_type": "code",
   "execution_count": 13,
   "metadata": {
    "colab": {
     "base_uri": "https://localhost:8080/",
     "height": 34
    },
    "colab_type": "code",
    "executionInfo": {
     "elapsed": 11177,
     "status": "ok",
     "timestamp": 1598699235299,
     "user": {
      "displayName": "Laura Iacovissi",
      "photoUrl": "https://lh3.googleusercontent.com/a-/AOh14GhYw-l84xlTUZkCtx1pCyDydEojYnT58zxwem0Z4g=s64",
      "userId": "09823519954946283449"
     },
     "user_tz": -120
    },
    "id": "WXt6A7WuIeDo",
    "outputId": "aa856771-4079-446a-91da-c613b6713599"
   },
   "outputs": [
    {
     "data": {
      "text/plain": [
       "torch.Size([15])"
      ]
     },
     "execution_count": 13,
     "metadata": {
      "tags": []
     },
     "output_type": "execute_result"
    }
   ],
   "source": [
    "# Defined the transform, this call returns the word index (after random cropping)\n",
    "dataset[0].shape"
   ]
  },
  {
   "cell_type": "markdown",
   "metadata": {
    "colab_type": "text",
    "id": "o74SIdtxIeDs"
   },
   "source": [
    "# RNN"
   ]
  },
  {
   "cell_type": "code",
   "execution_count": 14,
   "metadata": {
    "colab": {},
    "colab_type": "code",
    "executionInfo": {
     "elapsed": 11073,
     "status": "ok",
     "timestamp": 1598699235331,
     "user": {
      "displayName": "Laura Iacovissi",
      "photoUrl": "https://lh3.googleusercontent.com/a-/AOh14GhYw-l84xlTUZkCtx1pCyDydEojYnT58zxwem0Z4g=s64",
      "userId": "09823519954946283449"
     },
     "user_tz": -120
    },
    "id": "4ZNAdwzKNBkr"
   },
   "outputs": [],
   "source": [
    "classification = True\n",
    "\n",
    "params = {\n",
    "        # network\n",
    "        'hidden_units' : 2**9, # symmetric layers\n",
    "        'layers_num' : 2,\n",
    "        'dropout_prob' : 0.3,\n",
    "        'architecture' : 'GRU',\n",
    "\n",
    "        # training\n",
    "        'batch_size' : 1000,\n",
    "        'num_epochs' : 200,\n",
    "\n",
    "        # optimizer\n",
    "        'lr' : 1e-3,\n",
    "        'wd' : 1e-4,\n",
    "    \n",
    "        # dataset\n",
    "        'crop_len' : crop_len,\n",
    "        'min_len' : min_len\n",
    "        }\n",
    "\n",
    "# save\n",
    "out_dir = '{}_{}_{}_{}_{}_{}'.format(params['architecture'], \n",
    "                                     params['crop_len'], \n",
    "                                     params['min_len'], \n",
    "                                     params['batch_size'], \n",
    "                                     params['lr'], \n",
    "                                     params['wd'])"
   ]
  },
  {
   "cell_type": "code",
   "execution_count": 15,
   "metadata": {
    "colab": {},
    "colab_type": "code",
    "executionInfo": {
     "elapsed": 10997,
     "status": "ok",
     "timestamp": 1598699235360,
     "user": {
      "displayName": "Laura Iacovissi",
      "photoUrl": "https://lh3.googleusercontent.com/a-/AOh14GhYw-l84xlTUZkCtx1pCyDydEojYnT58zxwem0Z4g=s64",
      "userId": "09823519954946283449"
     },
     "user_tz": -120
    },
    "id": "De5cIpbQIeDx"
   },
   "outputs": [],
   "source": [
    "# Split initial dataset in train dataset and test dataset\n",
    "train_dataset, test_dataset = split_train_test(dataset, 0.9)\n",
    "# Make train dataloader\n",
    "train_dataloader = DataLoader(train_dataset, batch_size=params['batch_size'], shuffle=True)\n",
    "# Make test dataloader\n",
    "test_dataloader = DataLoader(test_dataset, shuffle=False)"
   ]
  },
  {
   "cell_type": "code",
   "execution_count": 16,
   "metadata": {
    "colab": {
     "base_uri": "https://localhost:8080/",
     "height": 102
    },
    "colab_type": "code",
    "executionInfo": {
     "elapsed": 14648,
     "status": "ok",
     "timestamp": 1598699239179,
     "user": {
      "displayName": "Laura Iacovissi",
      "photoUrl": "https://lh3.googleusercontent.com/a-/AOh14GhYw-l84xlTUZkCtx1pCyDydEojYnT58zxwem0Z4g=s64",
      "userId": "09823519954946283449"
     },
     "user_tz": -120
    },
    "id": "oc8u0owgNBk2",
    "outputId": "15a19711-dd74-4e83-da10-29ad54379ddd"
   },
   "outputs": [
    {
     "data": {
      "text/plain": [
       "Network(\n",
       "  (rnn): GRU(50, 512, num_layers=2, batch_first=True, dropout=0.3)\n",
       "  (out): Linear(in_features=512, out_features=11540, bias=True)\n",
       "  (embed): Embedding(11540, 50)\n",
       ")"
      ]
     },
     "execution_count": 16,
     "metadata": {
      "tags": []
     },
     "output_type": "execute_result"
    }
   ],
   "source": [
    "#TODO: hyperparameter optimization, this part must be included in the GridSearch iteration\n",
    "\n",
    "#%% Initialize network\n",
    "net = Network(vocab_size = vectors.shape[0],\n",
    "              embedding_dim = embedding_dim,\n",
    "              hidden_units = params['hidden_units'],\n",
    "              layers_num = params['layers_num'],\n",
    "              hidden_type = params['architecture'],\n",
    "              trained_embeddings = vectors,\n",
    "              freeze_embeddings = False,\n",
    "              dropout_prob = params['dropout_prob']\n",
    "             )\n",
    "\n",
    "# Define optimizer\n",
    "optimizer = optim.Adam(net.parameters(), lr=params['lr'], weight_decay=params['wd'])\n",
    "# Define loss function\n",
    "# regression case\n",
    "loss_fn = nn.MSELoss()\n",
    "# classification case\n",
    "cl = ''\n",
    "if classification == True:\n",
    "    loss_fn = nn.CrossEntropyLoss()\n",
    "    cl = '_class'\n",
    "\n",
    "net.to(device)"
   ]
  },
  {
   "cell_type": "code",
   "execution_count": 17,
   "metadata": {
    "colab": {
     "base_uri": "https://localhost:8080/",
     "height": 714
    },
    "colab_type": "code",
    "executionInfo": {
     "elapsed": 14535,
     "status": "error",
     "timestamp": 1598699239259,
     "user": {
      "displayName": "Laura Iacovissi",
      "photoUrl": "https://lh3.googleusercontent.com/a-/AOh14GhYw-l84xlTUZkCtx1pCyDydEojYnT58zxwem0Z4g=s64",
      "userId": "09823519954946283449"
     },
     "user_tz": -120
    },
    "id": "1ChGVuPFNBk5",
    "outputId": "64b9e9a9-8484-44f9-b0e5-e7ac6ebbc1f5",
    "scrolled": true
   },
   "outputs": [
    {
     "name": "stdout",
     "output_type": "stream",
     "text": [
      "\n",
      "\n",
      " EPOCH 1/200\n"
     ]
    },
    {
     "ename": "RuntimeError",
     "evalue": "ignored",
     "output_type": "error",
     "traceback": [
      "\u001b[0;31m---------------------------------------------------------------------------\u001b[0m",
      "\u001b[0;31mRuntimeError\u001b[0m                              Traceback (most recent call last)",
      "\u001b[0;32m<ipython-input-17-4ce895587b2e>\u001b[0m in \u001b[0;36m<module>\u001b[0;34m()\u001b[0m\n\u001b[0;32m----> 1\u001b[0;31m \u001b[0mget_ipython\u001b[0m\u001b[0;34m(\u001b[0m\u001b[0;34m)\u001b[0m\u001b[0;34m.\u001b[0m\u001b[0mrun_cell_magic\u001b[0m\u001b[0;34m(\u001b[0m\u001b[0;34m'time'\u001b[0m\u001b[0;34m,\u001b[0m \u001b[0;34m''\u001b[0m\u001b[0;34m,\u001b[0m \u001b[0;34m'\\nuse_checkpoint = False\\n\\n#%% Train network\\n\\n# Define losses containers\\ntrain_loss_epochs = []\\nval_loss_epochs = []\\nstart = 0\\n\\nif use_checkpoint:\\n    # Load hyperparameters\\n    with open(res_path + \"/\" + out_dir + \\'_bible_class\\', \\'rb\\') as f:\\n      losses = pickle.load(f)\\n    start = losses[\\'epochs\\'] + 1\\n    train_loss_epochs = losses[\\'train\\']\\n    val_loss_epochs = losses[\\'val\\']\\n\\n    # Load model\\n    state = torch.load(res_path + \"/state_\" + out_dir + \\'_bible_class.pth\\', map_location = device)\\n\\n    # Load weights\\n    net.load_state_dict(state)\\n    net.to(device)\\n    # Load optimizer\\n    opt = torch.load(res_path + \"/opt_\" + out_dir + \\'_bible_class.pth\\', map_location = device)\\n    optimizer.load_state_dict(opt)\\n\\n    \\nfor epoch in range(start, params[\\'num_epochs\\']):\\n\\n    print(\\'\\\\n\\\\n EPOCH %d/%d\\' % (epoch + 1, params[\\'num_epochs\\']))\\n    \\n    # Set training mode\\n    net.train()\\n    # Define losses container for one epoch\\n    train_loss_log = []\\n    \\n    # Iterate batches\\n    for batch_sample in train_dataloader:\\n        # Extract batch\\n        batch = batch_sample.long().to(device)\\n        # Update network\\n        batch_loss = net.train_batch(batch, loss_fn, optimizer)\\n        train_loss_log.append(batch_loss)\\n        # print(\\'\\\\t Training ...\n\u001b[0m",
      "\u001b[0;32m/usr/local/lib/python3.6/dist-packages/IPython/core/interactiveshell.py\u001b[0m in \u001b[0;36mrun_cell_magic\u001b[0;34m(self, magic_name, line, cell)\u001b[0m\n\u001b[1;32m   2115\u001b[0m             \u001b[0mmagic_arg_s\u001b[0m \u001b[0;34m=\u001b[0m \u001b[0mself\u001b[0m\u001b[0;34m.\u001b[0m\u001b[0mvar_expand\u001b[0m\u001b[0;34m(\u001b[0m\u001b[0mline\u001b[0m\u001b[0;34m,\u001b[0m \u001b[0mstack_depth\u001b[0m\u001b[0;34m)\u001b[0m\u001b[0;34m\u001b[0m\u001b[0;34m\u001b[0m\u001b[0m\n\u001b[1;32m   2116\u001b[0m             \u001b[0;32mwith\u001b[0m \u001b[0mself\u001b[0m\u001b[0;34m.\u001b[0m\u001b[0mbuiltin_trap\u001b[0m\u001b[0;34m:\u001b[0m\u001b[0;34m\u001b[0m\u001b[0;34m\u001b[0m\u001b[0m\n\u001b[0;32m-> 2117\u001b[0;31m                 \u001b[0mresult\u001b[0m \u001b[0;34m=\u001b[0m \u001b[0mfn\u001b[0m\u001b[0;34m(\u001b[0m\u001b[0mmagic_arg_s\u001b[0m\u001b[0;34m,\u001b[0m \u001b[0mcell\u001b[0m\u001b[0;34m)\u001b[0m\u001b[0;34m\u001b[0m\u001b[0;34m\u001b[0m\u001b[0m\n\u001b[0m\u001b[1;32m   2118\u001b[0m             \u001b[0;32mreturn\u001b[0m \u001b[0mresult\u001b[0m\u001b[0;34m\u001b[0m\u001b[0;34m\u001b[0m\u001b[0m\n\u001b[1;32m   2119\u001b[0m \u001b[0;34m\u001b[0m\u001b[0m\n",
      "\u001b[0;32m<decorator-gen-60>\u001b[0m in \u001b[0;36mtime\u001b[0;34m(self, line, cell, local_ns)\u001b[0m\n",
      "\u001b[0;32m/usr/local/lib/python3.6/dist-packages/IPython/core/magic.py\u001b[0m in \u001b[0;36m<lambda>\u001b[0;34m(f, *a, **k)\u001b[0m\n\u001b[1;32m    186\u001b[0m     \u001b[0;31m# but it's overkill for just that one bit of state.\u001b[0m\u001b[0;34m\u001b[0m\u001b[0;34m\u001b[0m\u001b[0;34m\u001b[0m\u001b[0m\n\u001b[1;32m    187\u001b[0m     \u001b[0;32mdef\u001b[0m \u001b[0mmagic_deco\u001b[0m\u001b[0;34m(\u001b[0m\u001b[0marg\u001b[0m\u001b[0;34m)\u001b[0m\u001b[0;34m:\u001b[0m\u001b[0;34m\u001b[0m\u001b[0;34m\u001b[0m\u001b[0m\n\u001b[0;32m--> 188\u001b[0;31m         \u001b[0mcall\u001b[0m \u001b[0;34m=\u001b[0m \u001b[0;32mlambda\u001b[0m \u001b[0mf\u001b[0m\u001b[0;34m,\u001b[0m \u001b[0;34m*\u001b[0m\u001b[0ma\u001b[0m\u001b[0;34m,\u001b[0m \u001b[0;34m**\u001b[0m\u001b[0mk\u001b[0m\u001b[0;34m:\u001b[0m \u001b[0mf\u001b[0m\u001b[0;34m(\u001b[0m\u001b[0;34m*\u001b[0m\u001b[0ma\u001b[0m\u001b[0;34m,\u001b[0m \u001b[0;34m**\u001b[0m\u001b[0mk\u001b[0m\u001b[0;34m)\u001b[0m\u001b[0;34m\u001b[0m\u001b[0;34m\u001b[0m\u001b[0m\n\u001b[0m\u001b[1;32m    189\u001b[0m \u001b[0;34m\u001b[0m\u001b[0m\n\u001b[1;32m    190\u001b[0m         \u001b[0;32mif\u001b[0m \u001b[0mcallable\u001b[0m\u001b[0;34m(\u001b[0m\u001b[0marg\u001b[0m\u001b[0;34m)\u001b[0m\u001b[0;34m:\u001b[0m\u001b[0;34m\u001b[0m\u001b[0;34m\u001b[0m\u001b[0m\n",
      "\u001b[0;32m/usr/local/lib/python3.6/dist-packages/IPython/core/magics/execution.py\u001b[0m in \u001b[0;36mtime\u001b[0;34m(self, line, cell, local_ns)\u001b[0m\n\u001b[1;32m   1191\u001b[0m         \u001b[0;32melse\u001b[0m\u001b[0;34m:\u001b[0m\u001b[0;34m\u001b[0m\u001b[0;34m\u001b[0m\u001b[0m\n\u001b[1;32m   1192\u001b[0m             \u001b[0mst\u001b[0m \u001b[0;34m=\u001b[0m \u001b[0mclock2\u001b[0m\u001b[0;34m(\u001b[0m\u001b[0;34m)\u001b[0m\u001b[0;34m\u001b[0m\u001b[0;34m\u001b[0m\u001b[0m\n\u001b[0;32m-> 1193\u001b[0;31m             \u001b[0mexec\u001b[0m\u001b[0;34m(\u001b[0m\u001b[0mcode\u001b[0m\u001b[0;34m,\u001b[0m \u001b[0mglob\u001b[0m\u001b[0;34m,\u001b[0m \u001b[0mlocal_ns\u001b[0m\u001b[0;34m)\u001b[0m\u001b[0;34m\u001b[0m\u001b[0;34m\u001b[0m\u001b[0m\n\u001b[0m\u001b[1;32m   1194\u001b[0m             \u001b[0mend\u001b[0m \u001b[0;34m=\u001b[0m \u001b[0mclock2\u001b[0m\u001b[0;34m(\u001b[0m\u001b[0;34m)\u001b[0m\u001b[0;34m\u001b[0m\u001b[0;34m\u001b[0m\u001b[0m\n\u001b[1;32m   1195\u001b[0m             \u001b[0mout\u001b[0m \u001b[0;34m=\u001b[0m \u001b[0;32mNone\u001b[0m\u001b[0;34m\u001b[0m\u001b[0;34m\u001b[0m\u001b[0m\n",
      "\u001b[0;32m<timed exec>\u001b[0m in \u001b[0;36m<module>\u001b[0;34m()\u001b[0m\n",
      "\u001b[0;32m/content/modules/network.py\u001b[0m in \u001b[0;36mtrain_batch\u001b[0;34m(self, batch, loss_fn, optimizer)\u001b[0m\n\u001b[1;32m    112\u001b[0m \u001b[0;34m\u001b[0m\u001b[0m\n\u001b[1;32m    113\u001b[0m         \u001b[0;31m# Evaluate loss only for last output\u001b[0m\u001b[0;34m\u001b[0m\u001b[0;34m\u001b[0m\u001b[0;34m\u001b[0m\u001b[0m\n\u001b[0;32m--> 114\u001b[0;31m         \u001b[0mloss\u001b[0m \u001b[0;34m=\u001b[0m \u001b[0mloss_fn\u001b[0m\u001b[0;34m(\u001b[0m\u001b[0moutput\u001b[0m\u001b[0;34m[\u001b[0m\u001b[0;34m:\u001b[0m\u001b[0;34m,\u001b[0m \u001b[0;34m-\u001b[0m\u001b[0;36m1\u001b[0m\u001b[0;34m,\u001b[0m \u001b[0;34m:\u001b[0m\u001b[0;34m]\u001b[0m\u001b[0;34m,\u001b[0m \u001b[0mself\u001b[0m\u001b[0;34m.\u001b[0m\u001b[0membed\u001b[0m\u001b[0;34m(\u001b[0m\u001b[0mtarget\u001b[0m\u001b[0;34m)\u001b[0m\u001b[0;34m)\u001b[0m\u001b[0;34m\u001b[0m\u001b[0;34m\u001b[0m\u001b[0m\n\u001b[0m\u001b[1;32m    115\u001b[0m         \u001b[0;31m# Backward pass\u001b[0m\u001b[0;34m\u001b[0m\u001b[0;34m\u001b[0m\u001b[0;34m\u001b[0m\u001b[0m\n\u001b[1;32m    116\u001b[0m         \u001b[0mloss\u001b[0m\u001b[0;34m.\u001b[0m\u001b[0mbackward\u001b[0m\u001b[0;34m(\u001b[0m\u001b[0;34m)\u001b[0m\u001b[0;34m\u001b[0m\u001b[0;34m\u001b[0m\u001b[0m\n",
      "\u001b[0;32m/usr/local/lib/python3.6/dist-packages/torch/nn/modules/module.py\u001b[0m in \u001b[0;36m_call_impl\u001b[0;34m(self, *input, **kwargs)\u001b[0m\n\u001b[1;32m    720\u001b[0m             \u001b[0mresult\u001b[0m \u001b[0;34m=\u001b[0m \u001b[0mself\u001b[0m\u001b[0;34m.\u001b[0m\u001b[0m_slow_forward\u001b[0m\u001b[0;34m(\u001b[0m\u001b[0;34m*\u001b[0m\u001b[0minput\u001b[0m\u001b[0;34m,\u001b[0m \u001b[0;34m**\u001b[0m\u001b[0mkwargs\u001b[0m\u001b[0;34m)\u001b[0m\u001b[0;34m\u001b[0m\u001b[0;34m\u001b[0m\u001b[0m\n\u001b[1;32m    721\u001b[0m         \u001b[0;32melse\u001b[0m\u001b[0;34m:\u001b[0m\u001b[0;34m\u001b[0m\u001b[0;34m\u001b[0m\u001b[0m\n\u001b[0;32m--> 722\u001b[0;31m             \u001b[0mresult\u001b[0m \u001b[0;34m=\u001b[0m \u001b[0mself\u001b[0m\u001b[0;34m.\u001b[0m\u001b[0mforward\u001b[0m\u001b[0;34m(\u001b[0m\u001b[0;34m*\u001b[0m\u001b[0minput\u001b[0m\u001b[0;34m,\u001b[0m \u001b[0;34m**\u001b[0m\u001b[0mkwargs\u001b[0m\u001b[0;34m)\u001b[0m\u001b[0;34m\u001b[0m\u001b[0;34m\u001b[0m\u001b[0m\n\u001b[0m\u001b[1;32m    723\u001b[0m         for hook in itertools.chain(\n\u001b[1;32m    724\u001b[0m                 \u001b[0m_global_forward_hooks\u001b[0m\u001b[0;34m.\u001b[0m\u001b[0mvalues\u001b[0m\u001b[0;34m(\u001b[0m\u001b[0;34m)\u001b[0m\u001b[0;34m,\u001b[0m\u001b[0;34m\u001b[0m\u001b[0;34m\u001b[0m\u001b[0m\n",
      "\u001b[0;32m/usr/local/lib/python3.6/dist-packages/torch/nn/modules/loss.py\u001b[0m in \u001b[0;36mforward\u001b[0;34m(self, input, target)\u001b[0m\n\u001b[1;32m    946\u001b[0m     \u001b[0;32mdef\u001b[0m \u001b[0mforward\u001b[0m\u001b[0;34m(\u001b[0m\u001b[0mself\u001b[0m\u001b[0;34m,\u001b[0m \u001b[0minput\u001b[0m\u001b[0;34m:\u001b[0m \u001b[0mTensor\u001b[0m\u001b[0;34m,\u001b[0m \u001b[0mtarget\u001b[0m\u001b[0;34m:\u001b[0m \u001b[0mTensor\u001b[0m\u001b[0;34m)\u001b[0m \u001b[0;34m->\u001b[0m \u001b[0mTensor\u001b[0m\u001b[0;34m:\u001b[0m\u001b[0;34m\u001b[0m\u001b[0;34m\u001b[0m\u001b[0m\n\u001b[1;32m    947\u001b[0m         return F.cross_entropy(input, target, weight=self.weight,\n\u001b[0;32m--> 948\u001b[0;31m                                ignore_index=self.ignore_index, reduction=self.reduction)\n\u001b[0m\u001b[1;32m    949\u001b[0m \u001b[0;34m\u001b[0m\u001b[0m\n\u001b[1;32m    950\u001b[0m \u001b[0;34m\u001b[0m\u001b[0m\n",
      "\u001b[0;32m/usr/local/lib/python3.6/dist-packages/torch/nn/functional.py\u001b[0m in \u001b[0;36mcross_entropy\u001b[0;34m(input, target, weight, size_average, ignore_index, reduce, reduction)\u001b[0m\n\u001b[1;32m   2420\u001b[0m     \u001b[0;32mif\u001b[0m \u001b[0msize_average\u001b[0m \u001b[0;32mis\u001b[0m \u001b[0;32mnot\u001b[0m \u001b[0;32mNone\u001b[0m \u001b[0;32mor\u001b[0m \u001b[0mreduce\u001b[0m \u001b[0;32mis\u001b[0m \u001b[0;32mnot\u001b[0m \u001b[0;32mNone\u001b[0m\u001b[0;34m:\u001b[0m\u001b[0;34m\u001b[0m\u001b[0;34m\u001b[0m\u001b[0m\n\u001b[1;32m   2421\u001b[0m         \u001b[0mreduction\u001b[0m \u001b[0;34m=\u001b[0m \u001b[0m_Reduction\u001b[0m\u001b[0;34m.\u001b[0m\u001b[0mlegacy_get_string\u001b[0m\u001b[0;34m(\u001b[0m\u001b[0msize_average\u001b[0m\u001b[0;34m,\u001b[0m \u001b[0mreduce\u001b[0m\u001b[0;34m)\u001b[0m\u001b[0;34m\u001b[0m\u001b[0;34m\u001b[0m\u001b[0m\n\u001b[0;32m-> 2422\u001b[0;31m     \u001b[0;32mreturn\u001b[0m \u001b[0mnll_loss\u001b[0m\u001b[0;34m(\u001b[0m\u001b[0mlog_softmax\u001b[0m\u001b[0;34m(\u001b[0m\u001b[0minput\u001b[0m\u001b[0;34m,\u001b[0m \u001b[0;36m1\u001b[0m\u001b[0;34m)\u001b[0m\u001b[0;34m,\u001b[0m \u001b[0mtarget\u001b[0m\u001b[0;34m,\u001b[0m \u001b[0mweight\u001b[0m\u001b[0;34m,\u001b[0m \u001b[0;32mNone\u001b[0m\u001b[0;34m,\u001b[0m \u001b[0mignore_index\u001b[0m\u001b[0;34m,\u001b[0m \u001b[0;32mNone\u001b[0m\u001b[0;34m,\u001b[0m \u001b[0mreduction\u001b[0m\u001b[0;34m)\u001b[0m\u001b[0;34m\u001b[0m\u001b[0;34m\u001b[0m\u001b[0m\n\u001b[0m\u001b[1;32m   2423\u001b[0m \u001b[0;34m\u001b[0m\u001b[0m\n\u001b[1;32m   2424\u001b[0m \u001b[0;34m\u001b[0m\u001b[0m\n",
      "\u001b[0;32m/usr/local/lib/python3.6/dist-packages/torch/nn/functional.py\u001b[0m in \u001b[0;36mnll_loss\u001b[0;34m(input, target, weight, size_average, ignore_index, reduce, reduction)\u001b[0m\n\u001b[1;32m   2216\u001b[0m                          .format(input.size(0), target.size(0)))\n\u001b[1;32m   2217\u001b[0m     \u001b[0;32mif\u001b[0m \u001b[0mdim\u001b[0m \u001b[0;34m==\u001b[0m \u001b[0;36m2\u001b[0m\u001b[0;34m:\u001b[0m\u001b[0;34m\u001b[0m\u001b[0;34m\u001b[0m\u001b[0m\n\u001b[0;32m-> 2218\u001b[0;31m         \u001b[0mret\u001b[0m \u001b[0;34m=\u001b[0m \u001b[0mtorch\u001b[0m\u001b[0;34m.\u001b[0m\u001b[0m_C\u001b[0m\u001b[0;34m.\u001b[0m\u001b[0m_nn\u001b[0m\u001b[0;34m.\u001b[0m\u001b[0mnll_loss\u001b[0m\u001b[0;34m(\u001b[0m\u001b[0minput\u001b[0m\u001b[0;34m,\u001b[0m \u001b[0mtarget\u001b[0m\u001b[0;34m,\u001b[0m \u001b[0mweight\u001b[0m\u001b[0;34m,\u001b[0m \u001b[0m_Reduction\u001b[0m\u001b[0;34m.\u001b[0m\u001b[0mget_enum\u001b[0m\u001b[0;34m(\u001b[0m\u001b[0mreduction\u001b[0m\u001b[0;34m)\u001b[0m\u001b[0;34m,\u001b[0m \u001b[0mignore_index\u001b[0m\u001b[0;34m)\u001b[0m\u001b[0;34m\u001b[0m\u001b[0;34m\u001b[0m\u001b[0m\n\u001b[0m\u001b[1;32m   2219\u001b[0m     \u001b[0;32melif\u001b[0m \u001b[0mdim\u001b[0m \u001b[0;34m==\u001b[0m \u001b[0;36m4\u001b[0m\u001b[0;34m:\u001b[0m\u001b[0;34m\u001b[0m\u001b[0;34m\u001b[0m\u001b[0m\n\u001b[1;32m   2220\u001b[0m         \u001b[0mret\u001b[0m \u001b[0;34m=\u001b[0m \u001b[0mtorch\u001b[0m\u001b[0;34m.\u001b[0m\u001b[0m_C\u001b[0m\u001b[0;34m.\u001b[0m\u001b[0m_nn\u001b[0m\u001b[0;34m.\u001b[0m\u001b[0mnll_loss2d\u001b[0m\u001b[0;34m(\u001b[0m\u001b[0minput\u001b[0m\u001b[0;34m,\u001b[0m \u001b[0mtarget\u001b[0m\u001b[0;34m,\u001b[0m \u001b[0mweight\u001b[0m\u001b[0;34m,\u001b[0m \u001b[0m_Reduction\u001b[0m\u001b[0;34m.\u001b[0m\u001b[0mget_enum\u001b[0m\u001b[0;34m(\u001b[0m\u001b[0mreduction\u001b[0m\u001b[0;34m)\u001b[0m\u001b[0;34m,\u001b[0m \u001b[0mignore_index\u001b[0m\u001b[0;34m)\u001b[0m\u001b[0;34m\u001b[0m\u001b[0;34m\u001b[0m\u001b[0m\n",
      "\u001b[0;31mRuntimeError\u001b[0m: Expected object of scalar type Long but got scalar type Float for argument #2 'target' in call to _thnn_nll_loss_forward"
     ]
    }
   ],
   "source": [
    "%%time\n",
    "\n",
    "use_checkpoint = False\n",
    "\n",
    "# Initialize WordToVector\n",
    "w2i = WordToIndex(words)\n",
    "\n",
    "# Define losses containers\n",
    "train_loss_epochs = []\n",
    "val_loss_epochs = []\n",
    "\n",
    "\n",
    "# Load checkpoint\n",
    "if use_checkpoint:\n",
    "    # Load hyperparameters\n",
    "    with open(res_path + \"/\" + out_dir + '_bible' + cl, 'rb') as f:\n",
    "          losses = pickle.load(f)\n",
    "    start = losses['epochs'] + 1\n",
    "    train_loss_epochs = losses['train']\n",
    "    val_loss_epochs = losses['val']\n",
    "\n",
    "    # Load model\n",
    "    state = torch.load(res_path + \"/state_\" + out_dir + '_bible' + cl + '.pth', map_location = device)\n",
    "\n",
    "    # Load weights\n",
    "    net.load_state_dict(state)\n",
    "    net.to(device)\n",
    "    # Load optimizer\n",
    "    opt = torch.load(res_path + \"/opt_\" + out_dir + '_bible' + cl + '.pth', map_location = device)\n",
    "    optimizer.load_state_dict(opt)\n",
    "\n",
    "#%% Train network   \n",
    "for epoch in range(start, params['num_epochs']):\n",
    "\n",
    "    print('\\n\\n EPOCH %d/%d' % (epoch + 1, params['num_epochs']))\n",
    "    \n",
    "    # Set training mode\n",
    "    net.train()\n",
    "    # Define losses container for one epoch\n",
    "    train_loss_log = []\n",
    "    \n",
    "    # Iterate batches\n",
    "    for batch_sample in train_dataloader:\n",
    "        # Extract batch\n",
    "        batch = batch_sample.long().to(device)\n",
    "        # Update network\n",
    "        batch_loss = net.train_batch(batch, loss_fn, optimizer)\n",
    "        train_loss_log.append(batch_loss)\n",
    "        # print('\\t Training loss (single batch):', batch_loss)\n",
    "        \n",
    "    print('\\t Training loss (epoch - mean): ', np.mean(train_loss_log) )\n",
    "    train_loss_epochs.append(np.mean(train_loss_log))\n",
    "    \n",
    "    # Set evaluation mode\n",
    "    net.eval()\n",
    "    val_loss_log = []\n",
    "    with torch.no_grad():\n",
    "        for batch_sample in test_dataloader:\n",
    "            batch = batch_sample.long().to(device)\n",
    "            val_loss = net.test_batch(batch, loss_fn)\n",
    "            val_loss_log.append(val_loss)\n",
    "            \n",
    "        print('\\t Validation loss (epoch - mean):', np.mean(val_loss_log))\n",
    "        val_loss_epochs.append(np.mean(val_loss_log))\n",
    "        \n",
    "        if (epoch + 1) % 10 == 0:\n",
    "            if not classification:\n",
    "                # Embedding matrix - updated\n",
    "                X = net.embed.weight.detach().numpy()\n",
    "            # Set seed\n",
    "            seed = 'I want you to know that'\n",
    "            # Generate sample text\n",
    "            print('\\n--- Sample text ---\\n')\n",
    "            _ = generate_text(net, seed, 5, device, words, w2i)\n",
    "            print('\\n\\n-------------------\\n')\n",
    "        \n",
    "    # Early stopping\n",
    "    # if epoch>200 and abs(val_loss_epochs[-1] - val_loss_epochs[-200]) < 1e-10:\n",
    "    #    break\n",
    "\n",
    "    losses = { 'train': train_loss_epochs, 'val':  val_loss_epochs, 'params' : params , 'epochs': epoch}\n",
    "\n",
    "    # Save losses dictionary\n",
    "    with open(res_path + \"/\" + out_dir + '_bible', 'wb') as f:\n",
    "        pickle.dump(losses, f, pickle.HIGHEST_PROTOCOL)\n",
    "        \n",
    "    # Save model \n",
    "    torch.save(net.state_dict(), res_path + \"/state_\" + out_dir + '_bible_class.pth')\n",
    "    # Save optimizer\n",
    "    torch.save(optimizer.state_dict(), res_path + \"/opt_\" + out_dir + '_bible_class.pth')"
   ]
  },
  {
   "cell_type": "code",
   "execution_count": null,
   "metadata": {
    "colab": {},
    "colab_type": "code",
    "executionInfo": {
     "elapsed": 13993,
     "status": "aborted",
     "timestamp": 1598699239181,
     "user": {
      "displayName": "Laura Iacovissi",
      "photoUrl": "https://lh3.googleusercontent.com/a-/AOh14GhYw-l84xlTUZkCtx1pCyDydEojYnT58zxwem0Z4g=s64",
      "userId": "09823519954946283449"
     },
     "user_tz": -120
    },
    "id": "1MSNBDkx39Mg"
   },
   "outputs": [],
   "source": [
    "# Plot losses\n",
    "plt.close('all')\n",
    "plt.figure(figsize=(12,8))\n",
    "\n",
    "plt.semilogy(train_loss_epochs, label='Train loss')\n",
    "plt.semilogy(val_loss_epochs, label='Validation loss', linestyle='dashed')\n",
    "\n",
    "plt.xlabel('Epoch')\n",
    "plt.ylabel('Loss')\n",
    "plt.grid()\n",
    "plt.legend()\n",
    "plt.tight_layout()\n",
    "plt.savefig(images_path+f\"/model_losses_\"  + out_dir + \"_bible\" + cl + \".png\")\n",
    "plt.show()"
   ]
  },
  {
   "cell_type": "markdown",
   "metadata": {
    "colab_type": "text",
    "id": "PMQhWo-eIeEC"
   },
   "source": [
    "# Text generation"
   ]
  },
  {
   "cell_type": "code",
   "execution_count": null,
   "metadata": {
    "colab": {},
    "colab_type": "code",
    "executionInfo": {
     "elapsed": 13644,
     "status": "aborted",
     "timestamp": 1598699239198,
     "user": {
      "displayName": "Laura Iacovissi",
      "photoUrl": "https://lh3.googleusercontent.com/a-/AOh14GhYw-l84xlTUZkCtx1pCyDydEojYnT58zxwem0Z4g=s64",
      "userId": "09823519954946283449"
     },
     "user_tz": -120
    },
    "id": "1GF0VYZ5IeED"
   },
   "outputs": [],
   "source": [
    "# Set seed\n",
    "seed = 'In the name of God we say'"
   ]
  },
  {
   "cell_type": "code",
   "execution_count": null,
   "metadata": {
    "colab": {},
    "colab_type": "code",
    "executionInfo": {
     "elapsed": 13377,
     "status": "aborted",
     "timestamp": 1598699239200,
     "user": {
      "displayName": "Laura Iacovissi",
      "photoUrl": "https://lh3.googleusercontent.com/a-/AOh14GhYw-l84xlTUZkCtx1pCyDydEojYnT58zxwem0Z4g=s64",
      "userId": "09823519954946283449"
     },
     "user_tz": -120
    },
    "id": "lS_NuttFIeEH"
   },
   "outputs": [],
   "source": [
    "# Load embeddings\n",
    "with open('./data/embeddings_bible', 'rb') as f:\n",
    "    embeddings = pickle.load(f)\n",
    "# Get list of words\n",
    "words = [*embeddings.keys()]\n",
    "# Get vectors as float tensor\n",
    "vectors = torch.tensor([*embeddings.values()], dtype=torch.float)\n",
    "\n",
    "# Load hyperparameters\n",
    "with open(res_path + \"/\" + out_dir + '_bible' + cl, 'rb') as f:\n",
    "    params = pickle.load(f)\n",
    "    params = params['params']\n",
    "    \n",
    "# Set device\n",
    "device = torch.device('cuda') if torch.cuda.is_available() else torch.device('cpu')\n",
    "\n",
    "# Load model\n",
    "state = torch.load(res_path + \"/state_\" + out_dir + '_bible' + cl + '.pth', map_location = device)\n",
    "\n",
    "net = Network(vocab_size = len(embeddings.keys()),\n",
    "              embedding_dim = 50,\n",
    "              hidden_units = params['hidden_units'],\n",
    "              layers_num = params['layers_num'],\n",
    "              hidden_type = params['architecture'],\n",
    "              trained_embeddings = vectors,\n",
    "              dropout_prob = params['dropout_prob']\n",
    "             )\n",
    "\n",
    "net.load_state_dict(state)\n",
    "\n",
    "# Embedding matrix\n",
    "X = net.embed.weight.detach().numpy()\n",
    "\n",
    "net.to(device)"
   ]
  },
  {
   "cell_type": "code",
   "execution_count": null,
   "metadata": {
    "colab": {},
    "colab_type": "code",
    "executionInfo": {
     "elapsed": 13347,
     "status": "aborted",
     "timestamp": 1598699239220,
     "user": {
      "displayName": "Laura Iacovissi",
      "photoUrl": "https://lh3.googleusercontent.com/a-/AOh14GhYw-l84xlTUZkCtx1pCyDydEojYnT58zxwem0Z4g=s64",
      "userId": "09823519954946283449"
     },
     "user_tz": -120
    },
    "id": "IvoQ-dTuIeEL"
   },
   "outputs": [],
   "source": [
    "# Initialize WordToVector\n",
    "w2i = WordToIndex(words)"
   ]
  },
  {
   "cell_type": "code",
   "execution_count": null,
   "metadata": {
    "colab": {},
    "colab_type": "code",
    "executionInfo": {
     "elapsed": 13290,
     "status": "aborted",
     "timestamp": 1598699239238,
     "user": {
      "displayName": "Laura Iacovissi",
      "photoUrl": "https://lh3.googleusercontent.com/a-/AOh14GhYw-l84xlTUZkCtx1pCyDydEojYnT58zxwem0Z4g=s64",
      "userId": "09823519954946283449"
     },
     "user_tz": -120
    },
    "id": "VngXEd0WIeEP"
   },
   "outputs": [],
   "source": [
    "_ = generate_text(net, seed, 15, device, words, w2i)"
   ]
  }
 ],
 "metadata": {
  "accelerator": "GPU",
  "colab": {
   "collapsed_sections": [],
   "name": "bible_text_generation.ipynb",
   "provenance": []
  },
  "kernelspec": {
   "display_name": "Python 3",
   "language": "python",
   "name": "python3"
  },
  "language_info": {
   "codemirror_mode": {
    "name": "ipython",
    "version": 3
   },
   "file_extension": ".py",
   "mimetype": "text/x-python",
   "name": "python",
   "nbconvert_exporter": "python",
   "pygments_lexer": "ipython3",
   "version": "3.7.4"
  }
 },
 "nbformat": 4,
 "nbformat_minor": 1
}
